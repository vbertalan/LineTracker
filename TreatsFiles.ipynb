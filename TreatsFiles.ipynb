{
 "cells": [
  {
   "cell_type": "code",
   "execution_count": 36,
   "metadata": {},
   "outputs": [],
   "source": [
    "## Transforma arquivos\n",
    "\n",
    "import re\n",
    "\n",
    "dataset = \"bgl\"\n",
    "file = open(\"groundTruth/summaries/\" + dataset + \".txt\", \"r\")\n",
    "LINE_PATTERN = \"#[0-9]+#\"\n",
    "SUMMARY_PATTERN = \"#summary:#\"\n",
    "line_file = []\n",
    "summary_file = []\n",
    "line_match = True\n",
    "summary_match = True\n",
    "line_count = 0\n",
    "\n",
    "for line in file:\n",
    "\n",
    "        if len(line) == 1:                  \n",
    "            summary_match = False\n",
    "            line_match = False\n",
    "            continue\n",
    "        elif re.match(LINE_PATTERN, line):            \n",
    "            line_match = True\n",
    "            continue\n",
    "        elif re.match(SUMMARY_PATTERN, line):\n",
    "            summary_match = True\n",
    "            continue\n",
    "        elif (line_match):\n",
    "            line_file.append(line)\n",
    "            line_count += 1\n",
    "            continue\n",
    "        elif (summary_match):\n",
    "            for elem in range(line_count):\n",
    "                summary_file.append(line)\n",
    "            line_count = 0   \n",
    "            continue\n",
    "\n",
    "with open (\"groundTruth/summaries/\" + dataset + \"_lines.txt\", \"w\") as f:\n",
    "     for line in line_file:\n",
    "          f.write(f\"{line}\")\n",
    "\n",
    "with open (\"groundTruth/summaries/\" + dataset + \"_summaries.txt\", \"w\") as f:\n",
    "     for line in summary_file:\n",
    "          f.write(f\"{line}\")"
   ]
  }
 ],
 "metadata": {
  "kernelspec": {
   "display_name": "base",
   "language": "python",
   "name": "python3"
  },
  "language_info": {
   "codemirror_mode": {
    "name": "ipython",
    "version": 3
   },
   "file_extension": ".py",
   "mimetype": "text/x-python",
   "name": "python",
   "nbconvert_exporter": "python",
   "pygments_lexer": "ipython3",
   "version": "3.11.4"
  }
 },
 "nbformat": 4,
 "nbformat_minor": 2
}
