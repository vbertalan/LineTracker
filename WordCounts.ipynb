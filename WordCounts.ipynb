{
 "cells": [
  {
   "cell_type": "code",
   "execution_count": 1,
   "metadata": {},
   "outputs": [
    {
     "name": "stdout",
     "output_type": "stream",
     "text": [
      "O número de unigramas do dataset bgl é 1703\n",
      "O número de unigramas do dataset hdfs é 2308\n",
      "O número de unigramas do dataset hpc é 1440\n",
      "O número de unigramas do dataset Proxifier é 1451\n",
      "O número de unigramas do dataset spark é 1861\n",
      "O número de unigramas do dataset Zookeeper é 1306\n"
     ]
    }
   ],
   "source": [
    "from sklearn.feature_extraction.text import CountVectorizer\n",
    "import os\n",
    "\n",
    "os.chdir('/home/vbertalan/Downloads/Projetos/Contagem de Tokens - Sumarios')\n",
    "\n",
    "dataset = [\"bgl\", \"hdfs\", \"hpc\", \"Proxifier\", \"spark\", \"Zookeeper\"]\n",
    "\n",
    "for item in dataset:\n",
    "    corpus = open(item + \"_lines.txt\")\n",
    "    vectorizer = CountVectorizer(decode_error='ignore',strip_accents='unicode')\n",
    "    X = vectorizer.fit_transform(corpus).toarray()\n",
    "    print(\"O número de unigramas do dataset {} é {}\".format(item, len(vectorizer.get_feature_names_out())))"
   ]
  },
  {
   "cell_type": "code",
   "execution_count": 30,
   "metadata": {},
   "outputs": [
    {
     "name": "stdout",
     "output_type": "stream",
     "text": [
      "Average sentence length of dataset bgl: 16.5105\n",
      "Average sentence length of dataset hdfs: 16.112\n",
      "Average sentence length of dataset hpc: 9.391\n",
      "Average sentence length of dataset Proxifier: 17.357\n",
      "Average sentence length of dataset spark: 12.044\n",
      "Average sentence length of dataset Zookeeper: 10.3265\n"
     ]
    }
   ],
   "source": [
    "from nltk.tokenize import RegexpTokenizer\n",
    "\n",
    "\n",
    "def average_sentence_length(file_path):\n",
    "\n",
    "    #linhas = []\n",
    "    tokenizer = RegexpTokenizer(r'\\w+')\n",
    "    len_lines = 0\n",
    "\n",
    "    # Open and read the file\n",
    "    with open(file_path, 'r', encoding='utf-8') as file:\n",
    "        for line in file:\n",
    "            tokenized_line = tokenizer.tokenize(line)\n",
    "            #linhas.append(tokenized_line)\n",
    "            len_lines += len(tokenized_line)\n",
    "\n",
    "    return(len_lines/2000)\n",
    "\n",
    "    \n",
    "# Example usage\n",
    "\n",
    "os.chdir('/home/vbertalan/Downloads/Projetos/Contagem de Tokens - Sumarios')\n",
    "\n",
    "dataset = [\"bgl\", \"hdfs\", \"hpc\", \"Proxifier\", \"spark\", \"Zookeeper\"]\n",
    "\n",
    "for item in dataset:\n",
    "    file_path = item + '_lines.txt'  # Replace with your file path\n",
    "    avg_length = average_sentence_length(file_path)\n",
    "    print(\"Average sentence length of dataset {}: {}\".format(item, avg_length))\n"
   ]
  },
  {
   "cell_type": "code",
   "execution_count": 31,
   "metadata": {},
   "outputs": [
    {
     "name": "stdout",
     "output_type": "stream",
     "text": [
      "Average sentence length of dataset bgl: (16.5105, 1072)\n",
      "Average sentence length of dataset hdfs: (16.112, 1508)\n",
      "Average sentence length of dataset hpc: (9.391, 930)\n",
      "Average sentence length of dataset Proxifier: (17.357, 943)\n",
      "Average sentence length of dataset spark: (12.044, 1089)\n",
      "Average sentence length of dataset Zookeeper: (10.3265, 735)\n"
     ]
    }
   ],
   "source": [
    "from nltk.tokenize import RegexpTokenizer\n",
    "from nltk.probability import FreqDist\n",
    "\n",
    "def average_sentence_length_and_hapaxes(file_path):\n",
    "    tokenizer = RegexpTokenizer(r'\\w+')\n",
    "    len_lines = 0\n",
    "    all_tokens = []\n",
    "\n",
    "    # Open and read the file\n",
    "    with open(file_path, 'r', encoding='utf-8') as file:\n",
    "        for line in file:\n",
    "            tokenized_line = tokenizer.tokenize(line)\n",
    "            all_tokens.extend(tokenized_line)  # Collect tokens for frequency distribution\n",
    "            len_lines += len(tokenized_line)\n",
    "\n",
    "    # Calculate the average sentence length\n",
    "    avg_sentence_length = len_lines / 2000\n",
    "\n",
    "    # Calculate word frequencies and find hapaxes\n",
    "    freq_dist = FreqDist(all_tokens)\n",
    "    hapaxes = [word for word, count in freq_dist.items() if count == 1]\n",
    "\n",
    "    return avg_sentence_length, len(hapaxes)\n",
    "\n",
    "# Example usage\n",
    "\n",
    "os.chdir('/home/vbertalan/Downloads/Projetos/Contagem de Tokens - Sumarios')\n",
    "\n",
    "dataset = [\"bgl\", \"hdfs\", \"hpc\", \"Proxifier\", \"spark\", \"Zookeeper\"]\n",
    "\n",
    "for item in dataset:\n",
    "    file_path = item + '_lines.txt'  # Replace with your file path\n",
    "    avg_length = average_sentence_length_and_hapaxes(file_path)\n",
    "    print(\"Average sentence length of dataset {}: {}\".format(item, avg_length))"
   ]
  }
 ],
 "metadata": {
  "kernelspec": {
   "display_name": "base",
   "language": "python",
   "name": "python3"
  },
  "language_info": {
   "codemirror_mode": {
    "name": "ipython",
    "version": 3
   },
   "file_extension": ".py",
   "mimetype": "text/x-python",
   "name": "python",
   "nbconvert_exporter": "python",
   "pygments_lexer": "ipython3",
   "version": "3.9.19"
  }
 },
 "nbformat": 4,
 "nbformat_minor": 2
}
