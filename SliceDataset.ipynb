{
 "cells": [
  {
   "cell_type": "code",
   "execution_count": 16,
   "metadata": {},
   "outputs": [],
   "source": [
    "################################## SLICING FILES ################################## \n",
    "\n",
    "## Slicing the dataset for training and test\n",
    "def slice_dataset(logName, summariesName, slice=0.2):\n",
    "\n",
    "    import random\n",
    "\n",
    "    log_file = os.path.join(indir, logName)\n",
    "    summary_file = os.path.join(indir, summariesName)\n",
    "\n",
    "    with open(log_file, 'r') as file:\n",
    "        lines = file.readlines()\n",
    "    with open (summary_file, 'r') as file:\n",
    "        summaries = file.readlines()\n",
    "    \n",
    "    total_lines = len(lines)\n",
    "    num_lines_to_select = int(total_lines * slice)\n",
    "    \n",
    "    # Select random indices without shuffling\n",
    "    selected_indices = sorted(random.sample(range(total_lines), num_lines_to_select))\n",
    "    \n",
    "    # Get the lines corresponding to the selected indices\n",
    "    selected_lines = [lines[i] for i in selected_indices]\n",
    "    selected_summaries = [summaries[i] for i in selected_indices]\n",
    "\n",
    "    split_file = logName[:-10] + \"_split.txt\"    \n",
    "\n",
    "    with open(os.path.join(indir, split_file), 'w') as f:\n",
    "        f.writelines(selected_lines)\n",
    "\n",
    "    split_file = summariesName[:-14] + \"_split_summaries.txt\"    \n",
    "\n",
    "    with open(os.path.join(indir, split_file), 'w') as f:\n",
    "        f.writelines(selected_summaries)\n",
    "\n",
    "import os\n",
    "\n",
    "dataset = \"bgl\" # The name of the dataset being tested\n",
    "logName = dataset + '_lines.txt' # Name of file to be parsed\n",
    "summariesName = dataset + '_summaries.txt' # Name of file to be parsed\n",
    "input_dir = os.path.join(os.getcwd(), \"ground_truths\") # The input directory of raw logs\n",
    "indir = os.path.join(input_dir, os.path.dirname(logName))\n",
    "\n",
    "slice_dataset(logName, summariesName)"
   ]
  }
 ],
 "metadata": {
  "kernelspec": {
   "display_name": "base",
   "language": "python",
   "name": "python3"
  },
  "language_info": {
   "codemirror_mode": {
    "name": "ipython",
    "version": 3
   },
   "file_extension": ".py",
   "mimetype": "text/x-python",
   "name": "python",
   "nbconvert_exporter": "python",
   "pygments_lexer": "ipython3",
   "version": "3.9.19"
  }
 },
 "nbformat": 4,
 "nbformat_minor": 2
}
