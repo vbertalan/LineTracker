{
 "cells": [
  {
   "cell_type": "code",
   "execution_count": null,
   "metadata": {},
   "outputs": [],
   "source": [
    "################################## SLICING FILES ################################## \n",
    "\n",
    "## Slicing the dataset for training and test\n",
    "def slice_dataset(logName, slice=0.2):\n",
    "\n",
    "    import random\n",
    "\n",
    "    log_file = os.path.join(indir, logName)\n",
    "\n",
    "    with open(log_file, 'r') as file:\n",
    "        lines = file.readlines()\n",
    "    \n",
    "    total_lines = len(lines)\n",
    "    num_lines_to_select = int(total_lines * slice)\n",
    "    \n",
    "    # Select random indices without shuffling\n",
    "    selected_indices = sorted(random.sample(range(total_lines), num_lines_to_select))\n",
    "    \n",
    "    # Get the lines corresponding to the selected indices\n",
    "    selected_lines = [lines[i] for i in selected_indices]\n",
    "\n",
    "    split_file = logName[:-10] + \"_split.txt\"    \n",
    "\n",
    "    with open(os.path.join(indir, split_file), 'w') as f:\n",
    "        f.writelines(selected_lines)\n",
    "\n",
    "import os\n",
    "\n",
    "dataset = \"Proxifier\" # The name of the dataset being tested\n",
    "logName = dataset + '_lines.txt' # Name of file to be parsed\n",
    "input_dir = os.path.join(os.getcwd(), \"ground_truths\") # The input directory of raw logs\n",
    "indir = os.path.join(input_dir, os.path.dirname(logName))\n",
    "\n",
    "slice_dataset(logName)"
   ]
  }
 ],
 "metadata": {
  "kernelspec": {
   "display_name": "base",
   "language": "python",
   "name": "python3"
  },
  "language_info": {
   "name": "python",
   "version": "3.9.19"
  }
 },
 "nbformat": 4,
 "nbformat_minor": 2
}
