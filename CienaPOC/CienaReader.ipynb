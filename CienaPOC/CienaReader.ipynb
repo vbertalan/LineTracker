{
 "cells": [
  {
   "cell_type": "code",
   "execution_count": 21,
   "metadata": {},
   "outputs": [],
   "source": [
    "import random\n",
    "import h5py\n",
    "import json\n",
    "# just for informations on the fields\n",
    "from typing import *\n",
    "\n",
    "class CienaLogData(TypedDict):\n",
    "    \"\"\"\n",
    "    - dup_id: str, String that is the same for bugs that are the same\n",
    "    - event_id: str, Unique string per bug_id\n",
    "    - group_id: str, Group to put logs related together, 'true' class (found by CIENA) of algorithm\n",
    "    - line_num: str, Plan id of the log: with log_name constitute the build_log\n",
    "    - planid: str, Plan id of the log: with log_name constitute the build_log\n",
    "    - log_name: str, Second part to make the build log\n",
    "    - raw: str, Raw text of the bug\n",
    "    - template: str, Template found by CIENA\n",
    "    - variables: List[str], Variables found with the template of CIENA\n",
    "    \"\"\"\n",
    "\n",
    "    dup_id: str\n",
    "    event_id: str\n",
    "    group_id: str\n",
    "    line_num: str\n",
    "    planid: str\n",
    "    log_name: str\n",
    "    raw: str\n",
    "    template: str\n",
    "    text: str\n",
    "    variables: List[str]\n",
    "\n",
    "EventId = str\n",
    "SplitDict = Dict[str, List[EventId]]"
   ]
  },
  {
   "cell_type": "code",
   "execution_count": 22,
   "metadata": {},
   "outputs": [
    {
     "name": "stdout",
     "output_type": "stream",
     "text": [
      "<class 'dict'>\n"
     ]
    },
    {
     "data": {
      "text/plain": [
       "'243808--ddf_vx_simbc69'"
      ]
     },
     "execution_count": 22,
     "metadata": {},
     "output_type": "execute_result"
    }
   ],
   "source": [
    "# Create dict of splits\n",
    "\n",
    "with open(\"CienaFiles/splitted_event_ids.json\") as fp:\n",
    "    splits: SplitDict = json.load(fp)\n",
    "    print(type(splits))"
   ]
  },
  {
   "cell_type": "code",
   "execution_count": 47,
   "metadata": {},
   "outputs": [],
   "source": [
    "# Runs over all the given file from Ciena\n",
    "\n",
    "with h5py.File(\"CienaFiles/trat3_production_1650_1700_20231411_v1.hdf5\") as fp:\n",
    "    for logfile_name, list_event_ids in splits.items():\n",
    "        for event_id in list_event_ids:\n",
    "            dico_attrs: CienaLogData = {**fp[event_id].attrs}"
   ]
  },
  {
   "cell_type": "code",
   "execution_count": 44,
   "metadata": {},
   "outputs": [
    {
     "name": "stdout",
     "output_type": "stream",
     "text": [
      "New line found\n",
      "{'dup_id': 'caea1452-19fe-477f-8e67-b40169319f84', 'event_id': '004cab1e-3532-43d8-b25e-13449d0d6f43', 'group_id': '5243cc30-70f4-476e-a849-33f95b9b74fc', 'line_num': 783, 'log_name': 'saosmibs_archive', 'planid': '242559', 'raw': \"cp: cannot stat '/localdisk/6500_repo/ome/vobs/viking_otn_apps/pots_packages/saos-tce/mibs/*BASE*po': No such file or directory\\n\", 'template': 'cp cannot stat no such file or directory', 'text': \"cp: cannot stat '/localdisk/6500_repo/ome/vobs/viking_otn_apps/pots_packages/saos-tce/mibs/*BASE*po': No such file or directory\\n\", 'variables': array(['/localdisk/6500_repo/ome/vobs/viking_otn_apps/pots_packages/saos-tce/mibs/*BASE*po'],\n",
      "      dtype=object)}\n",
      "New line found\n",
      "{'dup_id': '3fc40ca1-0f25-4f53-8f72-27b7c8295973', 'event_id': '0dcf9e56-57ce-4a84-bc41-1cb8c458acec', 'group_id': '5243cc30-70f4-476e-a849-33f95b9b74fc', 'line_num': 786, 'log_name': 'saosmibs_archive', 'planid': '242559', 'raw': \"cp: cannot stat '/localdisk/6500_repo/ome/vobs/viking_otn_apps/pots_packages/saos-tce/mibs/*raw': No such file or directory\\n\", 'template': 'cp cannot stat no such file or directory', 'text': \"cp: cannot stat '/localdisk/6500_repo/ome/vobs/viking_otn_apps/pots_packages/saos-tce/mibs/*raw': No such file or directory\\n\", 'variables': array(['/localdisk/6500_repo/ome/vobs/viking_otn_apps/pots_packages/saos-tce/mibs/*raw'],\n",
      "      dtype=object)}\n",
      "New line found\n",
      "{'dup_id': '6b35e0fe-cf1f-4d4c-8e02-b43169472fb5', 'event_id': '14006b31-ee30-4ff0-9198-05b2cb7feb31', 'group_id': '5243cc30-70f4-476e-a849-33f95b9b74fc', 'line_num': 785, 'log_name': 'saosmibs_archive', 'planid': '242559', 'raw': \"cp: cannot stat '/localdisk/6500_repo/ome/vobs/viking_otn_apps/pots_packages/saos-tce/mibs/*load': No such file or directory\\n\", 'template': 'cp cannot stat no such file or directory', 'text': \"cp: cannot stat '/localdisk/6500_repo/ome/vobs/viking_otn_apps/pots_packages/saos-tce/mibs/*load': No such file or directory\\n\", 'variables': array(['/localdisk/6500_repo/ome/vobs/viking_otn_apps/pots_packages/saos-tce/mibs/*load'],\n",
      "      dtype=object)}\n",
      "New line found\n",
      "{'dup_id': 'df405b33-e88f-4ee7-97f3-fafc7b7b3a20', 'event_id': '3063d645-ab0a-4630-af6b-7ffb419c5222', 'group_id': '5243cc30-70f4-476e-a849-33f95b9b74fc', 'line_num': 781, 'log_name': 'saosmibs_archive', 'planid': '242559', 'raw': \"cp: cannot stat '/localdisk/6500_repo/ome/vobs/viking_otn_apps/pots_packages/saos-tce/mibs/*boot*po': No such file or directory\\n\", 'template': 'cp cannot stat no such file or directory', 'text': \"cp: cannot stat '/localdisk/6500_repo/ome/vobs/viking_otn_apps/pots_packages/saos-tce/mibs/*boot*po': No such file or directory\\n\", 'variables': array(['/localdisk/6500_repo/ome/vobs/viking_otn_apps/pots_packages/saos-tce/mibs/*boot*po'],\n",
      "      dtype=object)}\n",
      "New line found\n",
      "{'dup_id': '7c5057e1-affc-4269-aa4b-56e9bc919af1', 'event_id': '3debe9c6-010d-455f-b975-928e8829eb1d', 'group_id': '5243cc30-70f4-476e-a849-33f95b9b74fc', 'line_num': 788, 'log_name': 'saosmibs_archive', 'planid': '242559', 'raw': \"cp: cannot stat '/localdisk/6500_repo/ome/vobs/viking_otn_apps/pots_packages/saos-tce/mibs/*sym': No such file or directory\\n\", 'template': 'cp cannot stat no such file or directory', 'text': \"cp: cannot stat '/localdisk/6500_repo/ome/vobs/viking_otn_apps/pots_packages/saos-tce/mibs/*sym': No such file or directory\\n\", 'variables': array(['/localdisk/6500_repo/ome/vobs/viking_otn_apps/pots_packages/saos-tce/mibs/*sym'],\n",
      "      dtype=object)}\n",
      "New line found\n",
      "{'dup_id': 'df405b33-e88f-4ee7-97f3-fafc7b7b3a20', 'event_id': '481a5c24-6814-45d8-b03b-940eb8907d3e', 'group_id': '5243cc30-70f4-476e-a849-33f95b9b74fc', 'line_num': 782, 'log_name': 'saosmibs_archive', 'planid': '242559', 'raw': \"cp: cannot stat '/localdisk/6500_repo/ome/vobs/viking_otn_apps/pots_packages/saos-tce/mibs/*bld*po': No such file or directory\\n\", 'template': 'cp cannot stat no such file or directory', 'text': \"cp: cannot stat '/localdisk/6500_repo/ome/vobs/viking_otn_apps/pots_packages/saos-tce/mibs/*bld*po': No such file or directory\\n\", 'variables': array(['/localdisk/6500_repo/ome/vobs/viking_otn_apps/pots_packages/saos-tce/mibs/*bld*po'],\n",
      "      dtype=object)}\n",
      "New line found\n",
      "{'dup_id': '9f21bfea-8dbf-4191-a283-cdf5a7fb3db5', 'event_id': '4843fd23-12fe-4be6-84c7-174409abd791', 'group_id': '5243cc30-70f4-476e-a849-33f95b9b74fc', 'line_num': 789, 'log_name': 'saosmibs_archive', 'planid': '242559', 'raw': \"cp: cannot stat '/localdisk/6500_repo/ome/vobs/viking_otn_apps/pots_packages/saos-tce/mibs/*sim': No such file or directory\\n\", 'template': 'cp cannot stat no such file or directory', 'text': \"cp: cannot stat '/localdisk/6500_repo/ome/vobs/viking_otn_apps/pots_packages/saos-tce/mibs/*sim': No such file or directory\\n\", 'variables': array(['/localdisk/6500_repo/ome/vobs/viking_otn_apps/pots_packages/saos-tce/mibs/*sim'],\n",
      "      dtype=object)}\n",
      "New line found\n",
      "{'dup_id': 'aeabf22b-86f0-440e-bfb1-2ac95564b948', 'event_id': '6240e245-4f67-4379-b4f1-84ef9d883140', 'group_id': '5243cc30-70f4-476e-a849-33f95b9b74fc', 'line_num': 784, 'log_name': 'saosmibs_archive', 'planid': '242559', 'raw': \"cp: cannot stat '/localdisk/6500_repo/ome/vobs/viking_otn_apps/pots_packages/saos-tce/mibs/*SWD': No such file or directory\\n\", 'template': 'cp cannot stat no such file or directory', 'text': \"cp: cannot stat '/localdisk/6500_repo/ome/vobs/viking_otn_apps/pots_packages/saos-tce/mibs/*SWD': No such file or directory\\n\", 'variables': array(['/localdisk/6500_repo/ome/vobs/viking_otn_apps/pots_packages/saos-tce/mibs/*SWD'],\n",
      "      dtype=object)}\n",
      "New line found\n",
      "{'dup_id': '0534ee72-2480-4103-83f3-8dad079273ca', 'event_id': '8452036e-eca1-4db4-b070-3147d36557d8', 'group_id': '5243cc30-70f4-476e-a849-33f95b9b74fc', 'line_num': 790, 'log_name': 'saosmibs_archive', 'planid': '242559', 'raw': \"cp: cannot stat '/localdisk/6500_repo/ome/vobs/viking_otn_apps/pots_packages/saos-tce/mibs/*bin': No such file or directory\\n\", 'template': 'cp cannot stat no such file or directory', 'text': \"cp: cannot stat '/localdisk/6500_repo/ome/vobs/viking_otn_apps/pots_packages/saos-tce/mibs/*bin': No such file or directory\\n\", 'variables': array(['/localdisk/6500_repo/ome/vobs/viking_otn_apps/pots_packages/saos-tce/mibs/*bin'],\n",
      "      dtype=object)}\n",
      "New line found\n",
      "{'dup_id': 'ff3adaba-23d7-40e8-9513-2bd34b7e1ef8', 'event_id': 'b9dbfe9a-a22d-4dba-b9a2-cf364587bbad', 'group_id': '5243cc30-70f4-476e-a849-33f95b9b74fc', 'line_num': 787, 'log_name': 'saosmibs_archive', 'planid': '242559', 'raw': \"cp: cannot stat '/localdisk/6500_repo/ome/vobs/viking_otn_apps/pots_packages/saos-tce/mibs/*tar': No such file or directory\\n\", 'template': 'cp cannot stat no such file or directory', 'text': \"cp: cannot stat '/localdisk/6500_repo/ome/vobs/viking_otn_apps/pots_packages/saos-tce/mibs/*tar': No such file or directory\\n\", 'variables': array(['/localdisk/6500_repo/ome/vobs/viking_otn_apps/pots_packages/saos-tce/mibs/*tar'],\n",
      "      dtype=object)}\n",
      "New line found\n",
      "{'dup_id': 'f190d574-80db-4838-afac-5e9ed9fd247e', 'event_id': 'cba813a0-bd69-4ef8-8b33-9439f6fd2cf2', 'group_id': 'bcab7c1f-deb0-4d18-8de8-cebad5815587', 'line_num': 400, 'log_name': 'saosmibs_archive', 'planid': '242559', 'raw': '2023-10-29 13:14:03 jq: error (at <stdin>:16): null (null) has no keys\\n', 'template': 'jq error at stdin null null has no keys', 'text': '2023-10-29 13:14:03 jq: error (at <stdin>:16): null (null) has no keys\\n', 'variables': array(['16'], dtype=object)}\n"
     ]
    }
   ],
   "source": [
    "## Gets random item\n",
    "\n",
    "logfile_names, event_list = random.choice(list(splits.items()))\n",
    "\n",
    "with h5py.File(\"CienaFiles/trat3_production_1650_1700_20231411_v1.hdf5\") as fp:\n",
    "    for event_id in event_list:\n",
    "        dico_attrs: CienaLogData = {**fp[event_id].attrs}\n",
    "        print(\"New line found\")\n",
    "        print(dico_attrs)\n"
   ]
  }
 ],
 "metadata": {
  "kernelspec": {
   "display_name": "base",
   "language": "python",
   "name": "python3"
  },
  "language_info": {
   "codemirror_mode": {
    "name": "ipython",
    "version": 3
   },
   "file_extension": ".py",
   "mimetype": "text/x-python",
   "name": "python",
   "nbconvert_exporter": "python",
   "pygments_lexer": "ipython3",
   "version": "3.11.5"
  }
 },
 "nbformat": 4,
 "nbformat_minor": 2
}
