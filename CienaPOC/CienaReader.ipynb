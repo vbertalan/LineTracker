{
 "cells": [
  {
   "cell_type": "code",
   "execution_count": 7,
   "metadata": {},
   "outputs": [
    {
     "name": "stdout",
     "output_type": "stream",
     "text": [
      "<class 'dict'>\n"
     ]
    }
   ],
   "source": [
    "from typing import *\n",
    "import random\n",
    "import h5py\n",
    "import json\n",
    "\n",
    "# TypedDict for Ciena's log data\n",
    "class CienaLogData(TypedDict):\n",
    "    \"\"\"\n",
    "    - dup_id: str, String that is the same for bugs that are the same\n",
    "    - event_id: str, Unique string per bug_id\n",
    "    - group_id: str, Group to put logs related together, 'true' class (found by CIENA) of algorithm\n",
    "    - line_num: str, Plan id of the log: with log_name constitute the build_log\n",
    "    - planid: str, Plan id of the log: with log_name constitute the build_log\n",
    "    - log_name: str, Second part to make the build log\n",
    "    - raw: str, Raw text of the bug\n",
    "    - template: str, Template found by CIENA\n",
    "    - variables: List[str], Variables found with the template of CIENA\n",
    "    \"\"\"\n",
    "\n",
    "    dup_id: str\n",
    "    event_id: str\n",
    "    group_id: str\n",
    "    line_num: str\n",
    "    planid: str\n",
    "    log_name: str\n",
    "    raw: str\n",
    "    template: str\n",
    "    text: str\n",
    "    variables: List[str]\n",
    "\n",
    "EventId = str\n",
    "SplitDict = Dict[str, List[EventId]]\n",
    "\n",
    "# Create dict of splits\n",
    "with open(\"CienaFiles/splitted_event_ids.json\") as fp:\n",
    "    splits: SplitDict = json.load(fp)\n",
    "    print(type(splits)\n",
    "    )"
   ]
  },
  {
   "cell_type": "code",
   "execution_count": 47,
   "metadata": {},
   "outputs": [],
   "source": [
    "# Runs over all the given file from Ciena\n",
    "\n",
    "with h5py.File(\"CienaFiles/trat3_production_1650_1700_20231411_v1.hdf5\") as fp:\n",
    "    for logfile_name, list_event_ids in splits.items():\n",
    "        for event_id in list_event_ids:\n",
    "            dico_attrs: CienaLogData = {**fp[event_id].attrs}"
   ]
  },
  {
   "cell_type": "code",
   "execution_count": 13,
   "metadata": {},
   "outputs": [
    {
     "name": "stdout",
     "output_type": "stream",
     "text": [
      "['fail', 'fail', 'cp cannot stat no such file or directory', 'rm cannot remove no such file or directory', 'error declaration of c function conflicts with', 'error previous declaration here', 'tput no value for term and no t specified', 'tput no value for term and no t specified', 'cat no such file or directory', 'cat no such file or directory', 'tput no value for term and no t specified', 'compile failed using', 'cat no such file or directory', 'error previous declaration here', 'mv cannot stat no such file or directory', 'error declaration of c function conflicts with', 'cp cannot stat no such file or directory', 'tput no value for term and no t specified', 'cp cannot stat no such file or directory', 'invalid suffix on integer constant', 'tput no value for term and no t specified', 'cp cannot stat no such file or directory', 'cp cannot stat no such file or directory', 'cat no such file or directory', 'cp cannot stat no such file or directory', 'tput no value for term and no t specified', 'compile failed using', 'error gnu compilers before are not supported anymore', 'cp cannot stat no such file or directory', 'sed can t read temp no such file or directory', 'cat no such file or directory', 'cp cannot stat no such file or directory', 'error unsupported toolchain', 'cp cannot stat no such file or directory', 'cp cannot stat no such file or directory', 'no such file']\n"
     ]
    }
   ],
   "source": [
    "## Gets random items from a given number of splits\n",
    "\n",
    "log_list = []\n",
    "num_splits = 1\n",
    "\n",
    "for i in range(num_splits):\n",
    "    logfile_names, event_list = random.choice(list(splits.items()))\n",
    "    with h5py.File(\"CienaFiles/trat3_production_1650_1700_20231411_v1.hdf5\") as fp:\n",
    "        for event_id in event_list:\n",
    "            dico_attrs: CienaLogData = {**fp[event_id].attrs}\n",
    "            log_list.append(dico_attrs['template'])\n",
    "\n",
    "print(log_list)"
   ]
  }
 ],
 "metadata": {
  "kernelspec": {
   "display_name": "base",
   "language": "python",
   "name": "python3"
  },
  "language_info": {
   "codemirror_mode": {
    "name": "ipython",
    "version": 3
   },
   "file_extension": ".py",
   "mimetype": "text/x-python",
   "name": "python",
   "nbconvert_exporter": "python",
   "pygments_lexer": "ipython3",
   "version": "3.11.5"
  }
 },
 "nbformat": 4,
 "nbformat_minor": 2
}
