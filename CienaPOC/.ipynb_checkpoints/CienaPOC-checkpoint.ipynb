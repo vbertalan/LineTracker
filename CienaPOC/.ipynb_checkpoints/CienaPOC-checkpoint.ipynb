{
 "cells": [
  {
   "cell_type": "markdown",
   "metadata": {},
   "source": [
    "Step 0 - Getting Random Lines From Ciena's File"
   ]
  },
  {
   "cell_type": "code",
   "execution_count": 1,
   "metadata": {},
   "outputs": [
    {
     "name": "stderr",
     "output_type": "stream",
     "text": [
      "Reading Ciena's data: 100%|██████████| 100/100 [00:49<00:00,  2.01it/s]\n",
      "Writing external file with lines chosen: 100%|██████████| 1922/1922 [00:00<00:00, 641018.79it/s]\n"
     ]
    }
   ],
   "source": [
    "from tqdm import tqdm\n",
    "from typing import *\n",
    "import random\n",
    "import h5py\n",
    "import json\n",
    "import os\n",
    "\n",
    "# TypedDict for Ciena's log data\n",
    "class CienaLogData(TypedDict):\n",
    "    \"\"\"\n",
    "    - dup_id: str, String that is the same for bugs that are the same\n",
    "    - event_id: str, Unique string per bug_id\n",
    "    - group_id: str, Group to put logs related together, 'true' class (found by CIENA) of algorithm\n",
    "    - line_num: str, Plan id of the log: with log_name constitute the build_log\n",
    "    - planid: str, Plan id of the log: with log_name constitute the build_log\n",
    "    - log_name: str, Second part to make the build log\n",
    "    - raw: str, Raw text of the bug\n",
    "    - template: str, Template found by CIENA\n",
    "    - variables: List[str], Variables found with the template of CIENA\n",
    "    \"\"\"\n",
    "\n",
    "    dup_id: str\n",
    "    event_id: str\n",
    "    group_id: str\n",
    "    line_num: str\n",
    "    planid: str\n",
    "    log_name: str\n",
    "    raw: str\n",
    "    template: str\n",
    "    text: str\n",
    "    variables: List[str]\n",
    "\n",
    "EventId = str\n",
    "SplitDict = Dict[str, List[EventId]]\n",
    "input_dir = os.path.join(os.getcwd(), \"logs/\") # The input directory of raw logs\n",
    "\n",
    "# Create dict of splits\n",
    "with open(input_dir + \"splitted_event_ids.json\") as fp:\n",
    "    splits: SplitDict = json.load(fp)\n",
    "\n",
    "## Gets random items from a given number of splits\n",
    "log_list = []\n",
    "num_splits = 100\n",
    "\n",
    "for i in tqdm(range(num_splits), desc=\"Reading Ciena's data\"):\n",
    "    logfile_names, event_list = random.choice(list(splits.items()))\n",
    "    with h5py.File(input_dir + \"trat3_production_1650_1700_20231411_v1.hdf5\") as fp:\n",
    "        for event_id in event_list:\n",
    "            dico_attrs: CienaLogData = {**fp[event_id].attrs}\n",
    "            log_list.append(dico_attrs['template'])\n",
    "\n",
    "file = open('log-lines.txt','w')\n",
    "for line in tqdm(log_list, desc=\"Writing external file with lines chosen\"):\n",
    "\tfile.write(line+\"\\n\")\n",
    "file.close()"
   ]
  },
  {
   "cell_type": "markdown",
   "metadata": {},
   "source": [
    "Step 1 - Loading Parameters and Libraries"
   ]
  },
  {
   "cell_type": "code",
   "execution_count": 2,
   "metadata": {},
   "outputs": [],
   "source": [
    "import DrainMethod\n",
    "import sys\n",
    "import os\n",
    "\n",
    "## General parameters \n",
    "\n",
    "input_dir = os.path.join(os.getcwd(), \"logs\") # The input directory of raw logs\n",
    "output_dir = os.path.join(os.getcwd(), \"parsings\")  # The output directory of parsing results\n",
    "vector_dir = os.path.join(os.getcwd(), \"embeddings\")  # The vector directory of converted logs\n",
    "\n",
    "#logName = 'ciena-mini.txt' \n",
    "logName = 'log-lines.txt' # Name of file to be parsed\n",
    "\n",
    "log_format = '<Content>' # Format of the file, if there are different fields\n",
    "regex = [] # Regex strings for Drain execution"
   ]
  },
  {
   "cell_type": "markdown",
   "metadata": {},
   "source": [
    "Step 2 - Log Parsing Using Drain"
   ]
  },
  {
   "cell_type": "code",
   "execution_count": 3,
   "metadata": {},
   "outputs": [
    {
     "name": "stdout",
     "output_type": "stream",
     "text": [
      "\n",
      "=== Starting Drain Parsing ===\n",
      "c:\\Users\\vbert\\OneDrive\\DOUTORADO Poly Mtl\\Projeto\\LineTracker\\LineTracker\\CienaPOC\\logs\\\n",
      "Parsing file: c:\\Users\\vbert\\OneDrive\\DOUTORADO Poly Mtl\\Projeto\\LineTracker\\LineTracker\\CienaPOC\\logs\\log-lines.txt\n"
     ]
    },
    {
     "name": "stderr",
     "output_type": "stream",
     "text": [
      "Parsing Progress:   0%|          | 0/1820 [00:00<?, ?it/s]Parsing Progress: 100%|██████████| 1820/1820 [00:00<00:00, 14171.45it/s]\n"
     ]
    },
    {
     "name": "stdout",
     "output_type": "stream",
     "text": [
      "Parsing done. [Time taken: 0:00:00.209373]\n"
     ]
    }
   ],
   "source": [
    "from pathlib import Path\n",
    "import pickle\n",
    "\n",
    "## Drain parameters\n",
    "st = 0.5 # Drain similarity threshold\n",
    "depth = 5 # Max depth of the parsing tree\n",
    "\n",
    "## Parses file, using DrainMethod\n",
    "print('\\n=== Starting Drain Parsing ===')\n",
    "indir = os.path.join(input_dir, os.path.dirname(logName))\n",
    "print(indir)\n",
    "log_file = os.path.basename(logName)\n",
    "\n",
    "parser = DrainMethod.LogParser(log_format=log_format, indir=indir, outdir=output_dir, rex=regex, depth=depth, st=st)\n",
    "parser.parse(log_file)\n",
    "\n",
    "parsedresult=os.path.join(output_dir, log_file + '_structured.csv')"
   ]
  },
  {
   "cell_type": "markdown",
   "metadata": {},
   "source": [
    "Step 3 - Creating Embeddings Using TFIDF"
   ]
  },
  {
   "cell_type": "code",
   "execution_count": 5,
   "metadata": {},
   "outputs": [
    {
     "name": "stdout",
     "output_type": "stream",
     "text": [
      "Transforming file: c:\\Users\\vbert\\OneDrive\\DOUTORADO Poly Mtl\\Projeto\\LineTracker\\LineTracker\\CienaPOC\\logs\\log-lines.txt\n"
     ]
    },
    {
     "name": "stderr",
     "output_type": "stream",
     "text": [
      "Loading data: 100%|██████████| 1820/1820 [00:00<00:00, 210281.34it/s]\n",
      "Processing files: 1820it [00:00, ?it/s]"
     ]
    },
    {
     "name": "stdout",
     "output_type": "stream",
     "text": [
      "Using Previous Embeddings File\n",
      "The dimensions of the embedding matrix are (1820, 193)\n"
     ]
    },
    {
     "name": "stderr",
     "output_type": "stream",
     "text": [
      "\n"
     ]
    }
   ],
   "source": [
    "## Step 2 - Vector Creation Using TFIDF\n",
    "\n",
    "from sklearn.feature_extraction.text import TfidfVectorizer\n",
    "from pathlib import Path\n",
    "import pandas as pd\n",
    "import regex as re\n",
    "import contextlib\n",
    "import pickle\n",
    "\n",
    "# Calls conversion from data to dataframe\n",
    "def load_data():\n",
    "    headers, regex = generate_logformat_regex(log_format)\n",
    "    return log_to_dataframe(os.path.join(indir, logName), regex, headers, log_format)\n",
    "\n",
    "# Preprocesses dataframe with regexes, if necessary - more preprocessing to add\n",
    "def preprocess_df(df_log):\n",
    "    for idx, content in tqdm(df_log[\"Content\"].items(), desc=\"Processing files\"):\n",
    "        for currentRex in regex:\n",
    "            df_log.at[idx,'Content'] = re.sub(currentRex, '<*>', content)\n",
    "    return df_log\n",
    "\n",
    "# Function to generate regular expression to split log messages\n",
    "def generate_logformat_regex(log_format):\n",
    "    headers = []\n",
    "    splitters = re.split(r'(<[^<>]+>)', log_format)\n",
    "    regex = ''\n",
    "    for k in range(len(splitters)):\n",
    "        if k % 2 == 0:\n",
    "            splitter = re.sub(' +', '\\\\\\s+', splitters[k])\n",
    "            regex += splitter\n",
    "        else:\n",
    "            header = splitters[k].strip('<').strip('>')\n",
    "            regex += f'(?P<{header}>.*?)'\n",
    "            headers.append(header)\n",
    "    regex = re.compile('^' + regex + '$')\n",
    "    return headers, regex\n",
    "\n",
    "# Function to transform log file to dataframe \n",
    "def log_to_dataframe(log_file, regex, headers, logformat):\n",
    "    log_messages = []\n",
    "    linecount = 0\n",
    "    with open(log_file, 'r') as fin:\n",
    "        for line in tqdm(fin.readlines(),desc=\"Loading data\"):\n",
    "            with contextlib.suppress(Exception):\n",
    "                match = regex.search(line.strip())\n",
    "                message = [match.group(header) for header in headers]\n",
    "                log_messages.append(message)\n",
    "                linecount += 1\n",
    "    logdf = pd.DataFrame(log_messages, columns=headers)\n",
    "    logdf.insert(0, 'LineId', None)\n",
    "    logdf['LineId'] = [i + 1 for i in range(linecount)]\n",
    "    return logdf\n",
    "\n",
    "# Transforms the dataset, creating raw vector file\n",
    "def transform_dataset(raw_content):\n",
    "    \n",
    "    path_to_file = os.path.join(vector_dir, logName + '_vectors_TFIDF.vec')\n",
    "    path = Path(path_to_file)\n",
    "    vectors_tfidf = []\n",
    "\n",
    "    # Saves transformed file, for further executions\n",
    "    if (path.is_file()):\n",
    "        print(\"Using Previous Embeddings File\")\n",
    "        vectors_tfidf = pickle.load(open(path_to_file, 'rb'))\n",
    "    else:\n",
    "        # Using TFIDF Vectorizer \n",
    "        print(\"Starting Encoding\")\n",
    "        tr_idf_model  = TfidfVectorizer()\n",
    "        vectors_tfidf = tr_idf_model.fit_transform(raw_content)\n",
    "        pickle.dump(vectors_tfidf, open(path_to_file, 'wb'))\n",
    "    \n",
    "    return vectors_tfidf\n",
    "\n",
    "# Creates embeddings for log file\n",
    "def transform(logName):\n",
    "    print('Transforming file: ' + os.path.join(input_dir, logName))\n",
    "    log_df = load_data()\n",
    "    log_df = preprocess_df(log_df)\n",
    "    return transform_dataset(log_df[\"Content\"])\n",
    "\n",
    "vector_df = transform(os.path.basename(logName))\n",
    "print(\"The dimensions of the embedding matrix are ({}, {})\".format(vector_df.shape[0], vector_df.shape[1]))"
   ]
  },
  {
   "cell_type": "markdown",
   "metadata": {},
   "source": [
    "Step 4 - Creating Distance Matrix, Using Cosine Distance"
   ]
  },
  {
   "cell_type": "code",
   "execution_count": 6,
   "metadata": {},
   "outputs": [
    {
     "name": "stdout",
     "output_type": "stream",
     "text": [
      "The dimensions of the distance matrix are (1820, 1820)\n"
     ]
    }
   ],
   "source": [
    "from sklearn.metrics.pairwise import cosine_distances\n",
    "import numpy as np\n",
    "\n",
    "tfidf_distance = cosine_distances(vector_df)\n",
    "print(\"The dimensions of the distance matrix are {}\".format(tfidf_distance.shape))"
   ]
  },
  {
   "cell_type": "markdown",
   "metadata": {},
   "source": [
    "Step 5 - Creating Matrix of Parsed Items (Variable Matrix)"
   ]
  },
  {
   "cell_type": "code",
   "execution_count": 7,
   "metadata": {},
   "outputs": [
    {
     "name": "stdout",
     "output_type": "stream",
     "text": [
      "The dimensions of the variable matrix are (1820, 1820)\n"
     ]
    }
   ],
   "source": [
    "from sklearn.metrics.pairwise import pairwise_distances\n",
    "from sklearn.preprocessing import MultiLabelBinarizer\n",
    "from ast import literal_eval\n",
    "import pandas as pd \n",
    "\n",
    "## General Parameters\n",
    "output_dir = os.path.join(os.getcwd(), \"parsings\")  # The output directory of parsing results\n",
    "output_csv = os.path.join(output_dir, log_file + '_structured.csv') # The file with parsed results\n",
    "\n",
    "# Reads parameters list\n",
    "full_df = pd.read_csv(output_csv)\n",
    "\n",
    "# Breaks the string into lists\n",
    "full_df[\"ParameterList\"] = full_df[\"ParameterList\"].apply(literal_eval)\n",
    "\n",
    "# Transforms variable list to variable sparse matrix\n",
    "mlb = MultiLabelBinarizer(sparse_output=True)\n",
    "var_df = mlb.fit_transform(full_df[\"ParameterList\"])\n",
    "\n",
    "# Code for Jaccard Distance\n",
    "def jaccard_distance(mat):\n",
    "    rows_sum = mat.getnnz(axis=1)\n",
    "    ab = mat * mat.T\n",
    "\n",
    "    # For rows\n",
    "    aa = np.repeat(rows_sum, ab.getnnz(axis=1))\n",
    "    # For columns\n",
    "    bb = rows_sum[ab.indices]\n",
    "\n",
    "    # Calculates Jaccard similarity\n",
    "    similarities = ab.copy()\n",
    "    similarities.data = similarities.data/(aa + bb - ab.data)\n",
    "\n",
    "    # Calculates Jaccard distance\n",
    "    distance = 1 - similarities.todense()\n",
    "\n",
    "    return distance\n",
    "\n",
    "var_distance = jaccard_distance(var_df)\n",
    "\n",
    "# Normalizes Variable Matrix with Min-Max\n",
    "min_val = np.min(var_distance)\n",
    "max_val = np.max(var_distance)\n",
    "var_distance = (var_distance - min_val) / (max_val - min_val)\n",
    "\n",
    "print(\"The dimensions of the variable matrix are {}\".format(var_distance.shape))"
   ]
  },
  {
   "cell_type": "markdown",
   "metadata": {},
   "source": [
    "Step 6 - Creates Closeness Matrix"
   ]
  },
  {
   "cell_type": "code",
   "execution_count": 8,
   "metadata": {},
   "outputs": [
    {
     "name": "stdout",
     "output_type": "stream",
     "text": [
      "The dimensions of the closeness matrix are (1820, 1820)\n"
     ]
    }
   ],
   "source": [
    "# Creates Count Matrix using line numbers from log lines as the counter\n",
    "count_list = []\n",
    "n = len(tfidf_distance)\n",
    "count_distance = np.abs(np.arange(n)[:, np.newaxis] - np.arange(n))\n",
    "\n",
    "# Normalizes Distance Matrix with Min-Max\n",
    "min_val = np.min(count_distance)\n",
    "max_val = np.max(count_distance)\n",
    "count_distance = (count_distance - min_val) / (max_val - min_val)\n",
    "print(\"The dimensions of the closeness matrix are {}\".format(count_distance.shape))"
   ]
  },
  {
   "cell_type": "markdown",
   "metadata": {},
   "source": [
    "Step 7 (Optional) - Saves/Loads Matrices"
   ]
  },
  {
   "cell_type": "code",
   "execution_count": 9,
   "metadata": {},
   "outputs": [
    {
     "name": "stdout",
     "output_type": "stream",
     "text": [
      "Saving distance matrix\n",
      "Saving variables matrix\n",
      "Saving count matrix\n",
      "Loading distance matrix\n",
      "Loading count matrix\n",
      "Loading variables matrix\n"
     ]
    }
   ],
   "source": [
    "# Saving matrices\n",
    "print(\"Saving distance matrix\")\n",
    "np.save(\"tfidf_distance\", tfidf_distance)\n",
    "print(\"Saving variables matrix\")\n",
    "np.save(\"var_distance\", var_distance)\n",
    "print(\"Saving count matrix\")\n",
    "np.save(\"count_distance\", count_distance)\n",
    "\n",
    "# Loading matrices\n",
    "print(\"Loading distance matrix\")\n",
    "tfidf_distance = np.load(\"tfidf_distance.npy\")\n",
    "print(\"Loading count matrix\")\n",
    "count_distance = np.load(\"count_distance.npy\")\n",
    "print(\"Loading variables matrix\")\n",
    "var_distance = np.load(\"var_distance.npy\")"
   ]
  },
  {
   "cell_type": "markdown",
   "metadata": {},
   "source": [
    "Step 8 - Applies Weights to the Matrices"
   ]
  },
  {
   "cell_type": "code",
   "execution_count": 10,
   "metadata": {},
   "outputs": [],
   "source": [
    "# Using alpha to define the weight of the TFIDF Matrix,  Beta to define the weight of the Variable Matrix,\n",
    "# and Gamma to define the weight of the Count Matrix\n",
    "alpha = 0.5\n",
    "beta = 0.3\n",
    "gamma = 0.2\n",
    "\n",
    "if alpha+beta+gamma != 1:\n",
    "   raise Exception(\"Values have to sum 1!\")\n",
    "\n",
    "# New matrices, corrected by the weights\n",
    "tfidf_distance_wtd = np.dot(alpha,tfidf_distance)\n",
    "var_distance_wtd = np.dot(beta, var_distance)\n",
    "count_distance_wtd = np.dot(gamma, count_distance)\n",
    "\n",
    "# Sums remaining matrices\n",
    "distance_matrix = np.asarray(tfidf_distance_wtd + var_distance_wtd + count_distance_wtd)"
   ]
  },
  {
   "cell_type": "markdown",
   "metadata": {},
   "source": [
    "Step 9 (TO BE REPLACED BY ROBIN'S CODE) - Clusters using K-Medoids"
   ]
  },
  {
   "cell_type": "code",
   "execution_count": 11,
   "metadata": {},
   "outputs": [
    {
     "name": "stdout",
     "output_type": "stream",
     "text": [
      "The number of clusters is 9\n",
      "The clusters of each element are [6 6 6 ... 9 9 9]\n"
     ]
    }
   ],
   "source": [
    "## ROBIN'S CODE TO BE PLACED HERE\n",
    "\n",
    "from sklearn_extra.cluster import KMedoids\n",
    "\n",
    "num_clusters = 10\n",
    "\n",
    "clusterer = KMedoids(n_clusters=num_clusters, metric='precomputed', random_state=0)\n",
    "clusterer.fit(distance_matrix)\n",
    "cluster_num = clusterer.labels_.max()\n",
    "print (\"The number of clusters is {}\".format(cluster_num))\n",
    "cluster_labels = clusterer.labels_\n",
    "print (\"The clusters of each element are {}\".format(cluster_labels))\n",
    "print (\"Closing execution\")"
   ]
  },
  {
   "cell_type": "markdown",
   "metadata": {},
   "source": [
    "Step 10 - Plots using TSNE"
   ]
  },
  {
   "cell_type": "code",
   "execution_count": 12,
   "metadata": {},
   "outputs": [
    {
     "data": {
      "text/plain": [
       "<matplotlib.collections.PathCollection at 0x1aed9fa3d90>"
      ]
     },
     "execution_count": 12,
     "metadata": {},
     "output_type": "execute_result"
    },
    {
     "data": {
      "image/png": "[encoded data removed]",
      "text/plain": [
       "<Figure size 640x480 with 1 Axes>"
      ]
     },
     "metadata": {},
     "output_type": "display_data"
    }
   ],
   "source": [
    "from sklearn.manifold import TSNE\n",
    "import matplotlib.pyplot as plt\n",
    "import seaborn as sns\n",
    "\n",
    "projection = TSNE(metric='precomputed', init='random').fit_transform(distance_matrix)\n",
    "\n",
    "color_palette = sns.color_palette('Paired', clusterer.labels_.max()+1)\n",
    "cluster_colors = [color_palette[x] if x >= 0\n",
    "                  else (0.5, 0.5, 0.5)\n",
    "                  for x in clusterer.labels_]\n",
    "plt.scatter(*projection.T, s=50, linewidth=0, c=cluster_colors, alpha=0.25)"
   ]
  },
  {
   "cell_type": "markdown",
   "metadata": {},
   "source": [
    "Step 11 - Creates Lists of Lines"
   ]
  },
  {
   "cell_type": "code",
   "execution_count": 13,
   "metadata": {},
   "outputs": [
    {
     "name": "stderr",
     "output_type": "stream",
     "text": [
      "Creating lists: 1820it [00:00, 102033.46it/s]\n"
     ]
    }
   ],
   "source": [
    "from gensim.utils import simple_preprocess\n",
    "from nltk.corpus import stopwords\n",
    "import gensim.corpora as corpora\n",
    "import pandas as pd\n",
    "import numpy as np\n",
    "import gensim\n",
    "import os\n",
    "\n",
    "## General Parameters\n",
    "output_dir = os.path.join(os.getcwd(), \"parsings\")  # The output directory of parsing results\n",
    "output_csv = os.path.join(output_dir, log_file + '_structured.csv') \n",
    "\n",
    "# Reads parameters list\n",
    "full_df = pd.read_csv(output_csv)\n",
    "elem_df = full_df[\"Content\"]\n",
    "\n",
    "# Create blank lists\n",
    "num_clusters = clusterer.labels_.max() + 1\n",
    "cluster_idxs = [[] for _ in range(num_clusters)]\n",
    "cluster_lines = [[] for _ in range(num_clusters)]\n",
    "\n",
    "# Populate the lists with cluster elements\n",
    "for idx, elem in tqdm(enumerate(clusterer.labels_),desc=\"Creating lists\"):\n",
    "    if elem != -1:\n",
    "        cluster_idxs[elem].append(idx)\n",
    "        cluster_lines[elem].append(elem_df.iloc[idx])"
   ]
  },
  {
   "cell_type": "markdown",
   "metadata": {},
   "source": [
    "Step 10 - Runs Topic Modeling on each cluster"
   ]
  },
  {
   "cell_type": "code",
   "execution_count": 15,
   "metadata": {},
   "outputs": [
    {
     "name": "stderr",
     "output_type": "stream",
     "text": [
      "Reading topics from clusters: 100%|██████████| 9/9 [00:25<00:00,  2.87s/it]\n"
     ]
    }
   ],
   "source": [
    "## Runs BerTopic on each cluster\n",
    "\n",
    "from sklearn_extra.cluster import KMedoids\n",
    "from nltk.tokenize import word_tokenize\n",
    "from nltk.corpus import stopwords\n",
    "from bertopic import BERTopic\n",
    "import nltk\n",
    "\n",
    "# Function to remove stopwords from each sentence\n",
    "#nltk.download('stopwords')\n",
    "#nltk.download('punkt')\n",
    "\n",
    "topic_model = BERTopic(hdbscan_model = KMedoids(n_clusters = 1), top_n_words=10)\n",
    "cluster_topics = []\n",
    "with open(\"vocabulary.txt\") as word_file:\n",
    "    english_words = {word.strip().lower() for word in word_file}\n",
    "stop_words = set(stopwords.words('english'))\n",
    "\n",
    "def process_text(text_list):\n",
    "    result = []\n",
    "    for text in text_list:\n",
    "        word_tokens = word_tokenize(text)\n",
    "        filtered_text = [word for word in word_tokens if word.lower() not in stop_words and english_words]\n",
    "        result.append(' '.join(filtered_text))\n",
    "    return result\n",
    "\n",
    "# Organizes files and find topics\n",
    "for cluster in tqdm(range(clusterer.labels_.max()),desc=\"Reading topics from clusters\"):\n",
    "    topics, probs = topic_model.fit_transform(process_text(cluster_lines[cluster]))\n",
    "    topic_model.get_topic(0)\n",
    "    top_topic = topic_model.get_topic(0)\n",
    "    words = [i[0] for i in top_topic]\n",
    "    cluster_topics.append(words)"
   ]
  },
  {
   "cell_type": "markdown",
   "metadata": {},
   "source": [
    "Step 10 - Finds most similar line inside the cluster to the words of the topic"
   ]
  },
  {
   "cell_type": "code",
   "execution_count": 16,
   "metadata": {},
   "outputs": [
    {
     "name": "stdout",
     "output_type": "stream",
     "text": [
      "In cluster 0, the closest line is 0, with 4 identical tokens to the topic\n",
      "The topic is composed of the following words: {'cat', 'term', 'directory', 'file', 'tput', 'stat', 'cp', 'sh', 'specified', 'value'}\n",
      "Line 0 is: tput no value for term and no t specified\n",
      "\n",
      "\n",
      "In cluster 1, the closest line is 0, with 4 identical tokens to the topic\n",
      "The topic is composed of the following words: {'term', 'directory', 'file', 'found', 'tput', 'stat', 'cp', 'reference', 'specified', 'value'}\n",
      "Line 0 is: tput no value for term and no t specified\n",
      "\n",
      "\n",
      "In cluster 2, the closest line is 14, with 4 identical tokens to the topic\n",
      "The topic is composed of the following words: {'line', 'term', 'directory', 'file', 'found', 'tput', 'stat', 'cp', 'specified', 'value'}\n",
      "Line 14 is: tput no value for term and no t specified\n",
      "\n",
      "\n",
      "In cluster 3, the closest line is 0, with 4 identical tokens to the topic\n",
      "The topic is composed of the following words: {'term', 'directory', 'file', 'found', 'tput', 'stat', 'aid', 'cp', 'specified', 'value'}\n",
      "Line 0 is: tput no value for term and no t specified\n",
      "\n",
      "\n",
      "In cluster 4, the closest line is 4, with 4 identical tokens to the topic\n",
      "The topic is composed of the following words: {'constant', 'syntax', 'command', 'line', 'error', 'function', 'appears', 'undeclared', 'cc', 'declaration'}\n",
      "Line 4 is: cc error unrecognized command line option\n",
      "\n",
      "\n",
      "In cluster 5, the closest line is 0, with 4 identical tokens to the topic\n",
      "The topic is composed of the following words: {'request', 'term', 'directory', 'find', 'file', 'tput', 'stat', 'cp', 'specified', 'value'}\n",
      "Line 0 is: cp cannot stat no such file or directory\n",
      "\n",
      "\n",
      "In cluster 6, the closest line is 5, with 4 identical tokens to the topic\n",
      "The topic is composed of the following words: {'term', 'directory', 'error', 'file', 'found', 'tput', 'stat', 'cp', 'specified', 'value'}\n",
      "Line 5 is: tput no value for term and no t specified\n",
      "\n",
      "\n",
      "In cluster 7, the closest line is 3, with 4 identical tokens to the topic\n",
      "The topic is composed of the following words: {'line', 'term', 'directory', 'file', 'found', 'tput', 'stat', 'cp', 'specified', 'value'}\n",
      "Line 3 is: cp cannot stat no such file or directory\n",
      "\n",
      "\n",
      "In cluster 8, the closest line is 0, with 4 identical tokens to the topic\n",
      "The topic is composed of the following words: {'line', 'term', 'directory', 'file', 'found', 'tput', 'stat', 'cp', 'specified', 'value'}\n",
      "Line 0 is: cp cannot stat no such file or directory\n",
      "\n",
      "\n"
     ]
    }
   ],
   "source": [
    "from nltk.tokenize import WhitespaceTokenizer\n",
    "\n",
    "tk = WhitespaceTokenizer()\n",
    "\n",
    "def find_similar_lines(cluster_list, cluster_number, word_list):\n",
    "    closest_line = 0\n",
    "    max_similarity = 0\n",
    "\n",
    "    for idx, line in enumerate(cluster_list[cluster_number]):\n",
    "        tokenized_line = set(tk.tokenize(line.lower()))\n",
    "        common_tokens = len(tokenized_line.intersection(word_list))\n",
    "\n",
    "        if common_tokens > max_similarity:\n",
    "            max_similarity = common_tokens\n",
    "            closest_line = idx\n",
    "\n",
    "    if max_similarity != 0:\n",
    "        print(\"In cluster {}, the closest line is {}, with {} identical tokens to the topic\".format(cluster_number, closest_line, max_similarity))\n",
    "        print(\"The topic is composed of the following words: {}\".format(word_list))\n",
    "        print(\"Line {} is: {}\".format(closest_line, cluster_list[cluster_number][closest_line]))\n",
    "    else:\n",
    "        print(\"No good lines found for cluster {}\".format(cluster_number))\n",
    "    print(\"\\n\")\n",
    "\n",
    "    return closest_line, max_similarity\n",
    "\n",
    "for cluster in range(len(cluster_topics)):\n",
    "    find_similar_lines(cluster_lines, cluster, set(cluster_topics[cluster]))"
   ]
  }
 ],
 "metadata": {
  "kernelspec": {
   "display_name": "Python 3 (ipykernel)",
   "language": "python",
   "name": "python3"
  },
  "language_info": {
   "codemirror_mode": {
    "name": "ipython",
    "version": 3
   },
   "file_extension": ".py",
   "mimetype": "text/x-python",
   "name": "python",
   "nbconvert_exporter": "python",
   "pygments_lexer": "ipython3",
   "version": "3.11.5"
  }
 },
 "nbformat": 4,
 "nbformat_minor": 2
}
