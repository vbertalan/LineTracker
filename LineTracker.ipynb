{
 "cells": [
  {
   "cell_type": "code",
   "execution_count": null,
   "metadata": {},
   "outputs": [],
   "source": [
    "## Step 0 - Parameters and Libraries\n",
    "\n",
    "import DrainMethod\n",
    "import sys\n",
    "import os\n",
    "\n",
    "## General parameters \n",
    "\n",
    "input_dir = os.path.join(os.getcwd(), \"logs\") # The input directory of raw logs\n",
    "output_dir = os.path.join(os.getcwd(), \"results\")  # The output directory of parsing results\n",
    "vector_dir = os.path.join(os.getcwd(), \"vectors\")  # The vector directory of converted logs\n",
    "#logName = 'Ciena_error_lin0es_20220701-20220715.txt' # Name of file to be parsed\n",
    "#logName = 'ciena-mini.txt' # Name of file to be parsed\n",
    "logName = 'Andriod_2k.log' # Name of file to be parsed\n",
    "log_format = '<Content>' # Format of the file, if there are different fields\n",
    "regex = [] # Regex strings for Drain execution"
   ]
  },
  {
   "cell_type": "code",
   "execution_count": 1,
   "metadata": {},
   "outputs": [
    {
     "name": "stdout",
     "output_type": "stream",
     "text": [
      "As dimensões da matriz de contadores são (10, 10)\n"
     ]
    }
   ],
   "source": [
    "\n",
    "# Imports libraries\n",
    "import numpy as np\n",
    "\n",
    "# Creates Count Matrix using line numbers from log lines as the counter\n",
    "count_list = []\n",
    "n = len(tfidf_distance)\n",
    "count_distance = np.zeros(shape=(n, n), dtype=int)\n",
    "for i in range(n):\n",
    "        count_list.append(i)\n",
    "\n",
    "# Using a Subtraction Distance using the line numbers as a Count Matrix\n",
    "count_array = np.array(count_list)\n",
    "for x in count_array:\n",
    "  for y in count_array:\n",
    "    count_distance[x,y] = abs(x-y)\n",
    "\n",
    "# Normalizes Distance Matrix with Min-Max\n",
    "min_val = np.min(count_distance)\n",
    "max_val = np.max(count_distance)\n",
    "count_distance = (count_distance - min_val) / (max_val - min_val)\n",
    "\n",
    "# Prints matrix dimensions\n",
    "print(\"As dimensões da matriz de contadores são {}\".format(count_distance.shape))"
   ]
  },
  {
   "cell_type": "code",
   "execution_count": 2,
   "metadata": {},
   "outputs": [
    {
     "name": "stdout",
     "output_type": "stream",
     "text": [
      "[[0.         0.11111111 0.22222222 0.33333333 0.44444444 0.55555556\n",
      "  0.66666667 0.77777778 0.88888889 1.        ]\n",
      " [0.11111111 0.         0.11111111 0.22222222 0.33333333 0.44444444\n",
      "  0.55555556 0.66666667 0.77777778 0.88888889]\n",
      " [0.22222222 0.11111111 0.         0.11111111 0.22222222 0.33333333\n",
      "  0.44444444 0.55555556 0.66666667 0.77777778]\n",
      " [0.33333333 0.22222222 0.11111111 0.         0.11111111 0.22222222\n",
      "  0.33333333 0.44444444 0.55555556 0.66666667]\n",
      " [0.44444444 0.33333333 0.22222222 0.11111111 0.         0.11111111\n",
      "  0.22222222 0.33333333 0.44444444 0.55555556]\n",
      " [0.55555556 0.44444444 0.33333333 0.22222222 0.11111111 0.\n",
      "  0.11111111 0.22222222 0.33333333 0.44444444]\n",
      " [0.66666667 0.55555556 0.44444444 0.33333333 0.22222222 0.11111111\n",
      "  0.         0.11111111 0.22222222 0.33333333]\n",
      " [0.77777778 0.66666667 0.55555556 0.44444444 0.33333333 0.22222222\n",
      "  0.11111111 0.         0.11111111 0.22222222]\n",
      " [0.88888889 0.77777778 0.66666667 0.55555556 0.44444444 0.33333333\n",
      "  0.22222222 0.11111111 0.         0.11111111]\n",
      " [1.         0.88888889 0.77777778 0.66666667 0.55555556 0.44444444\n",
      "  0.33333333 0.22222222 0.11111111 0.        ]]\n"
     ]
    }
   ],
   "source": [
    "print(count_distance)"
   ]
  }
 ],
 "metadata": {
  "kernelspec": {
   "display_name": "base",
   "language": "python",
   "name": "python3"
  },
  "language_info": {
   "codemirror_mode": {
    "name": "ipython",
    "version": 3
   },
   "file_extension": ".py",
   "mimetype": "text/x-python",
   "name": "python",
   "nbconvert_exporter": "python",
   "pygments_lexer": "ipython3",
   "version": "3.11.4"
  }
 },
 "nbformat": 4,
 "nbformat_minor": 2
}
