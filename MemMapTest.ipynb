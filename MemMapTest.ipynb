{
 "cells": [
  {
   "cell_type": "code",
   "execution_count": null,
   "metadata": {},
   "outputs": [],
   "source": [
    "import numpy as np\n",
    "\n",
    "# Creating a large NumPy array\n",
    "large_array = np.arange(1e7)\n",
    "\n",
    "# Creating a memory-mapped array\n",
    "filename = 'memmapped_file.dat'\n",
    "memmap_array = np.memmap(filename, dtype='float32', mode='w+',\n",
    "shape=large_array.shape)\n",
    "\n",
    "# Writing data to the memory-mapped array\n",
    "memmap_array[:] = large_array[:]\n",
    "\n",
    "# Flushing the data to the disk\n",
    "memmap_array.flush()\n",
    "\n",
    "# Now, the data is stored on disk, and you can close the array\n",
    "del memmap_array\n",
    "\n",
    "# Reopening the memory-mapped array in read-only mode\n",
    "memmap_array_read = np.memmap(filename, dtype='float32', mode='r',\n",
    "shape=large_array.shape)\n",
    "\n",
    "# Accessing and manipulating data in the memory-mapped array\n",
    "print(memmap_array_read[:10])\n",
    "\n",
    "# Closing the memory-mapped array\n",
    "del memmap_array_read"
   ]
  }
 ],
 "metadata": {
  "language_info": {
   "name": "python"
  }
 },
 "nbformat": 4,
 "nbformat_minor": 2
}
