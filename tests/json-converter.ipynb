{
 "cells": [
  {
   "cell_type": "code",
   "execution_count": 58,
   "metadata": {},
   "outputs": [],
   "source": [
    "import json\n",
    "\n",
    "file = 'pots-emotr'\n",
    "list_of_dicts = []\n",
    " \n",
    "with open(file) as fh:\n",
    "    for i, line in enumerate(fh): \n",
    "        current_dict = {'line_num':i, 'text':line}\n",
    "        list_of_dicts.append(current_dict) \n",
    "\n",
    "result_dict = {i: [file, list_of_dicts]}\n",
    "\n",
    "with open(file + \".json\", \"w\") as outfile: \n",
    "    json.dump(result_dict, outfile)"
   ]
  }
 ],
 "metadata": {
  "kernelspec": {
   "display_name": "Python 3",
   "language": "python",
   "name": "python3"
  },
  "language_info": {
   "codemirror_mode": {
    "name": "ipython",
    "version": 3
   },
   "file_extension": ".py",
   "mimetype": "text/x-python",
   "name": "python",
   "nbconvert_exporter": "python",
   "pygments_lexer": "ipython3",
   "version": "3.10.12"
  }
 },
 "nbformat": 4,
 "nbformat_minor": 2
}
