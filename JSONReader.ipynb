{
 "cells": [
  {
   "cell_type": "code",
   "execution_count": 2,
   "metadata": {},
   "outputs": [
    {
     "name": "stdout",
     "output_type": "stream",
     "text": [
      "{'1': ['action error * clusterAddMember ( command * ) Error : cluster_add_member failed unexpectedly\\\\ check * : <ABORT code errored : kill : * : no such process>', [['action error', 'is', 'VAR1 clusterAddMember'], ['command', 'is', 'VAR2'], ['', 'check', 'VAR3'], ['ABORT code', 'errored', ''], ['cluster_add_member', 'failed unexpectedly', '']]], '2': ['action error * clusterAddMember ( command * ) Error : Cannot run clusterAddMember\\\\ because * connection state is REFUSED and needs to be SRM', [['action error', 'is', 'VAR1 clusterAddMember'], ['command', 'is', 'VAR2'], ['', 'Cannot run', 'clusterAddMember'], ['VAR3 connection state', 'is', 'REFUSED'], ['connection state', 'needs to be', 'SRM'], ['Cannot run clusterAddMember', 'because', 'VAR3 connection state is REFUSED'], ['VAR3 connection state is REFUSED', 'and', 'needs to be SRM']]], '3': ['clusterfilesystem clusterfilesystem.not_served * ClusterFileSystem : ServerFileSystem domain * is no longer served by node *', [['ServerFileSystem domain VAR2', 'is', 'no longer served'], ['ServerFileSystem domain VAR2', 'is no longer served by', 'node VAR3']]], '4': ['clusterfilesystem clusterfilesystem.no_server * ClusterFileSystem : There is no server for ServerFileSystem domain *', [['no server', 'is for', 'ServerFileSystem domain VAR2']]], '5': ['action error * bootGenvmunix ( command * ) Error : node returned to srm while booting : <ABORT code completed>', [['action error', 'is', 'VAR1 bootGenvmunix'], ['command', 'is', 'VAR2'], ['node', 'returned to', 'srm'], ['ABORT code', 'completed', ''], ['node returned to srm', 'while', 'booting']]], '6': ['unix.hw net.niff.up * 1 NIFF : node * has detected an available network connection on network via interface *', [['node', 'is', 'VAR2'], ['node', 'has detected', 'an available network connection'], ['interface', 'is', 'VAR3']]], '7': ['unix.hw net.niff.down * 1 NIFF : node * detected a failed network connection on network via interface *', [['node', 'is', 'VAR2'], ['node', 'has detected', 'a failed network connection'], ['interface', 'is', 'VAR3']]], '8': ['clusterfilesystem fdmn.panic * 1 ServerFileSystem : An ServerFileSystem domain panic has occurred on *', [['An ServerFileSystem domain panic', 'has occurred on', 'VAR2']]], '9': ['action error * halt ( command * ) Error : Couldn\\\\047t Connect to console ( state = REFUSED )', [['action error', 'is', 'VAR1 halt'], ['', \"Couldn't connect to\", 'console'], ['command', 'is', 'VAR2'], ['state', 'is', 'REFUSED']]], '10': ['action error * member_delete ( command * ) Error : node is up according to cluster_get_info', [['action error', 'is', 'VAR1 member_delete'], ['command', 'is', 'VAR2'], ['node', 'is', 'up'], ['command', 'is', 'VAR2'], ['node is up', 'according to', 'cluster_get_info']]], '11': ['shutdown_cmd new 1080560697 1 Targeting domains : node-D1 and nodes : * child of command *', [['shutdown_cmd', 'Targeting', 'domains'], ['VAR1', 'child of', 'command VAR2']]], '12': ['action error * boot ( command 3833 ) Error : CMF-Port This node\\\\047s port is not connected', [['action error', 'is', 'VAR1 boot'], [\"node's port\", 'is not', 'connected']]], '13': ['action error * ( command * ) Error : Unknown We failed to determine the state of this node', [['action error', 'is', 'VAR1'], ['We', 'failed to determine', 'the state of this node'], ['command', 'is', 'VAR2'], ['We', 'failed to determine', 'the state of this node']]], '14': ['action error * halt ( command * ) Error : scrun failed\\\\ couldn\\\\047t send shutdown command', [['action error', 'is', 'VAR1 halt'], ['scrun', 'failed', ''], ['scrun', \"couldn't send\", 'shutdown command'], ['command', 'is', 'VAR2']]], '15': ['action error * risBoot ( command * ) Error : failed to RIS boot : <ABORT code completed>', [['action error', 'is', 'VAR1 risBoot'], ['command', 'is', 'VAR2'], ['', 'failed to', 'RIS boot'], ['ABORT code', 'completed', '']]], '16': ['clusterfilesystem fdmn.full * 1 ServerFileSystem : ServerFileSystem domain * is full', [['ServerFileSystem domain', 'is', 'VAR2'], ['ServerFileSystem domain', 'is', 'full']]], '17': ['action error * member_delete ( command * ) Error : * is NOT a member of cluster *', [['action error', 'is', 'VAR1 member_delete'], ['command', 'is', 'VAR2'], ['a menber of cluster', 'is NOT', 'VAR3'], ['cluster', 'is', 'VAR4']]], '18': ['unix.hw * * 1 Component State Change : Component * is in the * state ( HWID = * )', [['Component State', 'Change', ''], ['Component', 'is', 'VAR3'], ['state', 'is', 'VAR4'], ['HWID', 'is', 'VAR5'], ['Component VAR3', 'is in', 'the VAR4 state']]], '19': ['boot_cmd new * 1 Targeting domains : * and nodes : node- [ * ] child of command *', [['boot_cmd', 'Targeting', 'domains'], ['command', 'is', 'VAR4'], ['VAR2', 'and', 'nodes']]], '20': ['action error * boot ( command * ) Error : node went to SRM while trying to boot', [['action error', 'is', 'VAR1 boot'], ['node', 'went to', 'SRM'], ['command', 'is', 'VAR2'], ['node', 'trying to', 'boot'], ['node went to SRM', 'while', 'trying to boot']]], '21': ['unix.hw * Component State Change : Component * is in the * state ( HWID = * )', [['Component State', 'Change', ''], ['Component', 'is', 'VAR2'], ['state', 'is', 'VAR3'], ['HWID', 'is', 'VAR4'], ['Component VAR2', 'is in', 'the VAR3 state']]], '22': ['shutdown_cmd error 1076485276 1 Command Cancelled - cluster would lose quorum', [['Command', 'Cancelled', ''], ['cluster', 'would lose', 'quorum']]], '23': ['boot_cmd new * Targeting domains : node-D7 and nodes : * child of command *', [['boot_cmd', 'Targeting', 'domains'], ['nodes', 'is', 'VAR2'], ['child of command', 'is', 'VAR3']]], '24': ['shutdown_cmd new * Targeting domains : * and nodes : * child of command *', [['shutdown_cmd', 'Targeting', 'domains'], ['nodes', 'is', 'VAR2'], ['child of command', 'is', 'VAR3']]], '25': ['action error * boot ( command * ) Error : HALT asserted\\\\ cannot continue', [['action error', 'is', 'VAR1 boot'], ['command', 'is', 'VAR2'], ['HALT', 'asserted', ''], ['HALT', 'cannot continue', '']]], '26': ['boot_cmd new * 1 Targeting domains : * and nodes : * child of command *', [['boot_cmd', 'Targeting', 'domains'], ['nodes', 'is', 'VAR3'], ['child of command', 'is', 'VAR4']]], '27': ['switch_module temphigh * 1 Temperature ( * ) exceeds warning threshold', [['Temperature', 'is', 'VAR2'], ['Temperature', 'exceeds', 'warning threshold']]], '28': ['boot_cmd new * Targeting domains : * and nodes : * child of command *', [['boot_cmd', 'Targeting', 'domains'], ['VAR2', 'and', 'nodes'], ['child of command', 'is', 'VAR4']]], '29': ['* server subsys * failed to configure resourcemgmt subsystem err = 10', [['server subsys', 'is', 'VAR2'], ['server subsys', 'failed to', 'configure resourcemgmt'], ['err', 'is', '10']]], '30': ['action error * boot ( command * ) Error : timeout while booting.', [['action error', 'is', 'VAR1 boot'], ['command', 'is', 'VAR2'], ['timeout', 'while', 'booting']]], '31': ['action error * ( command * ) Error : * <ABORT code completed>', [['action error', 'is', 'VAR1 boot'], ['command', 'is', 'VAR2'], ['ABORT code', 'completed', '']]], '32': ['shutdown_cmd new * Targeting domains : node-* and nodes : *', [['shutdown_cmd', 'Targeting', 'domains'], ['nodes', 'is', 'VAR3'], ['node-VAR2', 'and', 'nodes']]], '33': ['switch_module bcast-error * 1 Link error on broadcast tree *', [['broadcast tree', 'is', 'VAR2'], ['Link error', 'on', 'broadcast tree']]], '34': ['install_cmd new * Targeting domains : node-D0 and nodes : *', [['install_cmd', 'Targeting', 'domains'], ['nodes', 'is', 'VAR2'], ['node-D0', 'and', 'nodes']]], '35': ['del_member_cmd new * Targeting domains : * and nodes : *', [['del_member_cmd', 'Targeting', 'domains'], ['nodes', 'is', 'VAR3'], ['VAR2', 'and', 'nodes']]], '36': ['shutdown_cmd new * Targeting domains : * and nodes : *', [['shutdown_cmd', 'Targeting', 'domains'], ['nodes', 'is', 'VAR3'], ['VAR2', 'and', 'nodes']]], '37': ['switch_module error * Linkerror event interval expired', [['Linkerror event interval', 'expired', '']]], '38': ['install_cmd new * Targeting domains : * and nodes : *', [['install_cmd', 'Targeting', 'domains'], ['nodes', 'is', 'VAR3'], ['VAR2', 'and', 'nodes']]], '39': ['boot_cmd new * Targeting domains : * and nodes : *', [['boot_cmd', 'Targeting', 'domains'], ['nodes', 'is', 'VAR3'], ['VAR2', 'and', 'nodes']]], '40': ['switch_module error * * link errors remain current', [['link errors', 'remain', 'current']]], '41': ['node temphigh * ambient = * threshold exceeded', [['node temphigh', 'is', 'VAR1'], ['ambient', 'is', 'VAR2'], ['threshold', 'exceeded', '']]], '42': ['del_member_cmd error * Command Failed on : *', [['Command', 'Failed on', 'VAR2']]], '43': ['action error * boot ( command * ) Error : *', [['action error', 'is', 'VAR1 boot'], ['command', 'is', 'VAR2']]], '44': ['shutdown_cmd error * Command Failed on :*', [['Command', 'Failed on', 'VAR2']]], '45': ['shutdown_cmd error * Failed subcommands *', [['', 'Failed', 'subcommands VAR2'], ['subcommands', 'is', 'VAR2']]], '46': ['install_cmd error * Command Failed on : *', [['Command', 'Failed', ''], ['Command', 'Failed on', 'VAR2']]], '47': ['switch_module control * no recent update', [['switch_module control', 'is', 'VAR1']]], '48': ['domain status * inconsistent nodesets *', [['domain status', 'is', 'VAR1'], ['inconsistent nodesets', 'is', 'VAR2']]], '49': ['switch_module control * power/control *', [['switch_module control', 'is', 'VAR1'], ['power/control', 'is', 'VAR2']]], '50': ['switch_module control * update received', [['switch_module control', 'received', 'update'], ['switch_module control', 'is', 'VAR1']]], '51': ['boot_cmd abort * Command Failed on : *', [['Command', 'Failed', ''], ['Command', 'Failed on', 'VAR2']]], '52': ['action error * ( command * ) Error : *', [['command', 'is', 'VAR2']]], '53': ['boot_cmd error * Command Failed on :*', [['Command', 'Failed', ''], ['Command', 'Failed on', 'VAR2']]], '54': ['boot_cmd error * Failed subcommands *', [['', 'Failed', 'subcommands'], ['subcommands', 'is', 'VAR2']]], '55': ['boot_cmd abort * Failed subcommands *', [['boot_cmd', 'abort', 'VAR1'], ['', 'Failed', 'subcommands'], ['subcommands', 'is', 'VAR2']]], '56': ['shutdown_cmd * Command Failed on : *', [['Command', 'Failed', ''], ['Command', 'Failed on', 'VAR2']]], '57': ['boot_cmd * * 1 Command Failed on : *', [['Command', 'Failed', ''], ['Command', 'Failed on', 'VAR3']]], '58': ['partition status 1081571037 * down', [['partition status', 'is', 'down']]], '59': ['switch_module psu * PSU status *', [['PSU status', 'is', 'VAR2']]], '60': ['gige fan.failed * fan2 has failed', [['fan2', 'has failed', '']]], '61': ['boot_cmd * Command Failed on : *', [['Command', 'Failed', ''], ['Command', 'Failed on', 'VAR2']]], '62': ['switch_module fan * Fan speeds *', [['fan', 'is', 'VAR1'], ['Fan speeds', 'is', 'VAR2']]], '63': ['boot_cmd * Command Failed on : *', [['Command', 'Failed', ''], ['Command', 'Failed on', 'VAR2']]], '64': ['boot_cmd * Failed subcommands *', [['', 'Failed', 'subcommands'], ['subcommands', 'is', 'VAR2']]], '65': ['switch_module * 1 Link in reset', [['Link', 'in', 'reset']]], '66': ['boot_cmd* Failed subcommands *', [['', 'Failed', 'subcommands'], ['subcommands', 'is', 'VAR2']]], '67': ['del_member_cmd * Command has *', [['Command', 'has', 'VAR2']]], '68': ['domain status * not responding', [['domain status', 'not responding', ''], ['domain status', 'is', 'VAR1']]], '69': ['node temperature * ambient = *', [['node temperature', 'is', 'VAR1'], ['ambient', 'is', 'VAR2']]], '70': ['install_cmd * 1 Command has *', [['Command', 'has', 'VAR2']]], '71': ['partition status * -1 blocked', [['partition status', 'blocked', '']]], '72': ['shutdown_cmd * Command has *', [['Command', 'has', 'VAR2']]], '73': ['node status * configured out', [['node status', 'is', 'VAR1'], ['node status', 'configured out', '']]], '74': ['node status * not responding', [['node status', 'not responding', ''], ['node status', 'is', 'VAR1']]], '75': ['node * failure\\\\ ambient = *', [['node', 'is', 'VAR1'], ['ambient', 'is', 'VAR2']]], '76': ['partition status * running', [['partition status', 'is', 'VAR1']]], '77': ['boot_cmd * Command has *', [['Command', 'has', 'VAR2']]], '78': ['action * ( command * )', [['action', 'is', 'VAR1'], ['command', 'is', 'VAR2']]], '79': ['node status * active', [['node status', 'is', 'VAR1'], ['node status', 'is', 'active']]], '80': ['node temperature *', [['node temperature', 'is', 'VAR1']]], '81': ['partition status *', [['partition status', 'is', 'VAR1']]], '82': ['gige temperature *', [['gige temperature', 'is', 'VAR1']]], '83': ['tserver status *', [['tserver status', 'is', 'VAR1']]], '84': ['switch_module *', [['switch_module', 'is', 'VAR1']]], '85': ['node status *', [['node status', 'is', 'VAR1']]]}\n"
     ]
    }
   ],
   "source": [
    "# Python program to read\n",
    "# json file\n",
    " \n",
    "import json\n",
    "\n",
    "data = {}\n",
    "\n",
    "with open('groundTruth/HPCTemplate.json', 'r') as f:\n",
    "  data = json.load(f)\n",
    "\n",
    "# Output: {'name': 'Bob', 'languages': ['English', 'French']}\n",
    "print(data)"
   ]
  },
  {
   "cell_type": "code",
   "execution_count": 6,
   "metadata": {},
   "outputs": [
    {
     "name": "stdout",
     "output_type": "stream",
     "text": [
      "<class 'dict'>\n",
      "1 -> ['action error * clusterAddMember ( command * ) Error : cluster_add_member failed unexpectedly\\\\ check * : <ABORT code errored : kill : * : no such process>', [['action error', 'is', 'VAR1 clusterAddMember'], ['command', 'is', 'VAR2'], ['', 'check', 'VAR3'], ['ABORT code', 'errored', ''], ['cluster_add_member', 'failed unexpectedly', '']]]\n",
      "2 -> ['action error * clusterAddMember ( command * ) Error : Cannot run clusterAddMember\\\\ because * connection state is REFUSED and needs to be SRM', [['action error', 'is', 'VAR1 clusterAddMember'], ['command', 'is', 'VAR2'], ['', 'Cannot run', 'clusterAddMember'], ['VAR3 connection state', 'is', 'REFUSED'], ['connection state', 'needs to be', 'SRM'], ['Cannot run clusterAddMember', 'because', 'VAR3 connection state is REFUSED'], ['VAR3 connection state is REFUSED', 'and', 'needs to be SRM']]]\n",
      "3 -> ['clusterfilesystem clusterfilesystem.not_served * ClusterFileSystem : ServerFileSystem domain * is no longer served by node *', [['ServerFileSystem domain VAR2', 'is', 'no longer served'], ['ServerFileSystem domain VAR2', 'is no longer served by', 'node VAR3']]]\n",
      "4 -> ['clusterfilesystem clusterfilesystem.no_server * ClusterFileSystem : There is no server for ServerFileSystem domain *', [['no server', 'is for', 'ServerFileSystem domain VAR2']]]\n",
      "5 -> ['action error * bootGenvmunix ( command * ) Error : node returned to srm while booting : <ABORT code completed>', [['action error', 'is', 'VAR1 bootGenvmunix'], ['command', 'is', 'VAR2'], ['node', 'returned to', 'srm'], ['ABORT code', 'completed', ''], ['node returned to srm', 'while', 'booting']]]\n",
      "6 -> ['unix.hw net.niff.up * 1 NIFF : node * has detected an available network connection on network via interface *', [['node', 'is', 'VAR2'], ['node', 'has detected', 'an available network connection'], ['interface', 'is', 'VAR3']]]\n",
      "7 -> ['unix.hw net.niff.down * 1 NIFF : node * detected a failed network connection on network via interface *', [['node', 'is', 'VAR2'], ['node', 'has detected', 'a failed network connection'], ['interface', 'is', 'VAR3']]]\n",
      "8 -> ['clusterfilesystem fdmn.panic * 1 ServerFileSystem : An ServerFileSystem domain panic has occurred on *', [['An ServerFileSystem domain panic', 'has occurred on', 'VAR2']]]\n",
      "9 -> ['action error * halt ( command * ) Error : Couldn\\\\047t Connect to console ( state = REFUSED )', [['action error', 'is', 'VAR1 halt'], ['', \"Couldn't connect to\", 'console'], ['command', 'is', 'VAR2'], ['state', 'is', 'REFUSED']]]\n",
      "10 -> ['action error * member_delete ( command * ) Error : node is up according to cluster_get_info', [['action error', 'is', 'VAR1 member_delete'], ['command', 'is', 'VAR2'], ['node', 'is', 'up'], ['command', 'is', 'VAR2'], ['node is up', 'according to', 'cluster_get_info']]]\n",
      "11 -> ['shutdown_cmd new 1080560697 1 Targeting domains : node-D1 and nodes : * child of command *', [['shutdown_cmd', 'Targeting', 'domains'], ['VAR1', 'child of', 'command VAR2']]]\n",
      "12 -> ['action error * boot ( command 3833 ) Error : CMF-Port This node\\\\047s port is not connected', [['action error', 'is', 'VAR1 boot'], [\"node's port\", 'is not', 'connected']]]\n",
      "13 -> ['action error * ( command * ) Error : Unknown We failed to determine the state of this node', [['action error', 'is', 'VAR1'], ['We', 'failed to determine', 'the state of this node'], ['command', 'is', 'VAR2'], ['We', 'failed to determine', 'the state of this node']]]\n",
      "14 -> ['action error * halt ( command * ) Error : scrun failed\\\\ couldn\\\\047t send shutdown command', [['action error', 'is', 'VAR1 halt'], ['scrun', 'failed', ''], ['scrun', \"couldn't send\", 'shutdown command'], ['command', 'is', 'VAR2']]]\n",
      "15 -> ['action error * risBoot ( command * ) Error : failed to RIS boot : <ABORT code completed>', [['action error', 'is', 'VAR1 risBoot'], ['command', 'is', 'VAR2'], ['', 'failed to', 'RIS boot'], ['ABORT code', 'completed', '']]]\n",
      "16 -> ['clusterfilesystem fdmn.full * 1 ServerFileSystem : ServerFileSystem domain * is full', [['ServerFileSystem domain', 'is', 'VAR2'], ['ServerFileSystem domain', 'is', 'full']]]\n",
      "17 -> ['action error * member_delete ( command * ) Error : * is NOT a member of cluster *', [['action error', 'is', 'VAR1 member_delete'], ['command', 'is', 'VAR2'], ['a menber of cluster', 'is NOT', 'VAR3'], ['cluster', 'is', 'VAR4']]]\n",
      "18 -> ['unix.hw * * 1 Component State Change : Component * is in the * state ( HWID = * )', [['Component State', 'Change', ''], ['Component', 'is', 'VAR3'], ['state', 'is', 'VAR4'], ['HWID', 'is', 'VAR5'], ['Component VAR3', 'is in', 'the VAR4 state']]]\n",
      "19 -> ['boot_cmd new * 1 Targeting domains : * and nodes : node- [ * ] child of command *', [['boot_cmd', 'Targeting', 'domains'], ['command', 'is', 'VAR4'], ['VAR2', 'and', 'nodes']]]\n",
      "20 -> ['action error * boot ( command * ) Error : node went to SRM while trying to boot', [['action error', 'is', 'VAR1 boot'], ['node', 'went to', 'SRM'], ['command', 'is', 'VAR2'], ['node', 'trying to', 'boot'], ['node went to SRM', 'while', 'trying to boot']]]\n",
      "21 -> ['unix.hw * Component State Change : Component * is in the * state ( HWID = * )', [['Component State', 'Change', ''], ['Component', 'is', 'VAR2'], ['state', 'is', 'VAR3'], ['HWID', 'is', 'VAR4'], ['Component VAR2', 'is in', 'the VAR3 state']]]\n",
      "22 -> ['shutdown_cmd error 1076485276 1 Command Cancelled - cluster would lose quorum', [['Command', 'Cancelled', ''], ['cluster', 'would lose', 'quorum']]]\n",
      "23 -> ['boot_cmd new * Targeting domains : node-D7 and nodes : * child of command *', [['boot_cmd', 'Targeting', 'domains'], ['nodes', 'is', 'VAR2'], ['child of command', 'is', 'VAR3']]]\n",
      "24 -> ['shutdown_cmd new * Targeting domains : * and nodes : * child of command *', [['shutdown_cmd', 'Targeting', 'domains'], ['nodes', 'is', 'VAR2'], ['child of command', 'is', 'VAR3']]]\n",
      "25 -> ['action error * boot ( command * ) Error : HALT asserted\\\\ cannot continue', [['action error', 'is', 'VAR1 boot'], ['command', 'is', 'VAR2'], ['HALT', 'asserted', ''], ['HALT', 'cannot continue', '']]]\n",
      "26 -> ['boot_cmd new * 1 Targeting domains : * and nodes : * child of command *', [['boot_cmd', 'Targeting', 'domains'], ['nodes', 'is', 'VAR3'], ['child of command', 'is', 'VAR4']]]\n",
      "27 -> ['switch_module temphigh * 1 Temperature ( * ) exceeds warning threshold', [['Temperature', 'is', 'VAR2'], ['Temperature', 'exceeds', 'warning threshold']]]\n",
      "28 -> ['boot_cmd new * Targeting domains : * and nodes : * child of command *', [['boot_cmd', 'Targeting', 'domains'], ['VAR2', 'and', 'nodes'], ['child of command', 'is', 'VAR4']]]\n",
      "29 -> ['* server subsys * failed to configure resourcemgmt subsystem err = 10', [['server subsys', 'is', 'VAR2'], ['server subsys', 'failed to', 'configure resourcemgmt'], ['err', 'is', '10']]]\n",
      "30 -> ['action error * boot ( command * ) Error : timeout while booting.', [['action error', 'is', 'VAR1 boot'], ['command', 'is', 'VAR2'], ['timeout', 'while', 'booting']]]\n",
      "31 -> ['action error * ( command * ) Error : * <ABORT code completed>', [['action error', 'is', 'VAR1 boot'], ['command', 'is', 'VAR2'], ['ABORT code', 'completed', '']]]\n",
      "32 -> ['shutdown_cmd new * Targeting domains : node-* and nodes : *', [['shutdown_cmd', 'Targeting', 'domains'], ['nodes', 'is', 'VAR3'], ['node-VAR2', 'and', 'nodes']]]\n",
      "33 -> ['switch_module bcast-error * 1 Link error on broadcast tree *', [['broadcast tree', 'is', 'VAR2'], ['Link error', 'on', 'broadcast tree']]]\n",
      "34 -> ['install_cmd new * Targeting domains : node-D0 and nodes : *', [['install_cmd', 'Targeting', 'domains'], ['nodes', 'is', 'VAR2'], ['node-D0', 'and', 'nodes']]]\n",
      "35 -> ['del_member_cmd new * Targeting domains : * and nodes : *', [['del_member_cmd', 'Targeting', 'domains'], ['nodes', 'is', 'VAR3'], ['VAR2', 'and', 'nodes']]]\n",
      "36 -> ['shutdown_cmd new * Targeting domains : * and nodes : *', [['shutdown_cmd', 'Targeting', 'domains'], ['nodes', 'is', 'VAR3'], ['VAR2', 'and', 'nodes']]]\n",
      "37 -> ['switch_module error * Linkerror event interval expired', [['Linkerror event interval', 'expired', '']]]\n",
      "38 -> ['install_cmd new * Targeting domains : * and nodes : *', [['install_cmd', 'Targeting', 'domains'], ['nodes', 'is', 'VAR3'], ['VAR2', 'and', 'nodes']]]\n",
      "39 -> ['boot_cmd new * Targeting domains : * and nodes : *', [['boot_cmd', 'Targeting', 'domains'], ['nodes', 'is', 'VAR3'], ['VAR2', 'and', 'nodes']]]\n",
      "40 -> ['switch_module error * * link errors remain current', [['link errors', 'remain', 'current']]]\n",
      "41 -> ['node temphigh * ambient = * threshold exceeded', [['node temphigh', 'is', 'VAR1'], ['ambient', 'is', 'VAR2'], ['threshold', 'exceeded', '']]]\n",
      "42 -> ['del_member_cmd error * Command Failed on : *', [['Command', 'Failed on', 'VAR2']]]\n",
      "43 -> ['action error * boot ( command * ) Error : *', [['action error', 'is', 'VAR1 boot'], ['command', 'is', 'VAR2']]]\n",
      "44 -> ['shutdown_cmd error * Command Failed on :*', [['Command', 'Failed on', 'VAR2']]]\n",
      "45 -> ['shutdown_cmd error * Failed subcommands *', [['', 'Failed', 'subcommands VAR2'], ['subcommands', 'is', 'VAR2']]]\n",
      "46 -> ['install_cmd error * Command Failed on : *', [['Command', 'Failed', ''], ['Command', 'Failed on', 'VAR2']]]\n",
      "47 -> ['switch_module control * no recent update', [['switch_module control', 'is', 'VAR1']]]\n",
      "48 -> ['domain status * inconsistent nodesets *', [['domain status', 'is', 'VAR1'], ['inconsistent nodesets', 'is', 'VAR2']]]\n",
      "49 -> ['switch_module control * power/control *', [['switch_module control', 'is', 'VAR1'], ['power/control', 'is', 'VAR2']]]\n",
      "50 -> ['switch_module control * update received', [['switch_module control', 'received', 'update'], ['switch_module control', 'is', 'VAR1']]]\n",
      "51 -> ['boot_cmd abort * Command Failed on : *', [['Command', 'Failed', ''], ['Command', 'Failed on', 'VAR2']]]\n",
      "52 -> ['action error * ( command * ) Error : *', [['command', 'is', 'VAR2']]]\n",
      "53 -> ['boot_cmd error * Command Failed on :*', [['Command', 'Failed', ''], ['Command', 'Failed on', 'VAR2']]]\n",
      "54 -> ['boot_cmd error * Failed subcommands *', [['', 'Failed', 'subcommands'], ['subcommands', 'is', 'VAR2']]]\n",
      "55 -> ['boot_cmd abort * Failed subcommands *', [['boot_cmd', 'abort', 'VAR1'], ['', 'Failed', 'subcommands'], ['subcommands', 'is', 'VAR2']]]\n",
      "56 -> ['shutdown_cmd * Command Failed on : *', [['Command', 'Failed', ''], ['Command', 'Failed on', 'VAR2']]]\n",
      "57 -> ['boot_cmd * * 1 Command Failed on : *', [['Command', 'Failed', ''], ['Command', 'Failed on', 'VAR3']]]\n",
      "58 -> ['partition status 1081571037 * down', [['partition status', 'is', 'down']]]\n",
      "59 -> ['switch_module psu * PSU status *', [['PSU status', 'is', 'VAR2']]]\n",
      "60 -> ['gige fan.failed * fan2 has failed', [['fan2', 'has failed', '']]]\n",
      "61 -> ['boot_cmd * Command Failed on : *', [['Command', 'Failed', ''], ['Command', 'Failed on', 'VAR2']]]\n",
      "62 -> ['switch_module fan * Fan speeds *', [['fan', 'is', 'VAR1'], ['Fan speeds', 'is', 'VAR2']]]\n",
      "63 -> ['boot_cmd * Command Failed on : *', [['Command', 'Failed', ''], ['Command', 'Failed on', 'VAR2']]]\n",
      "64 -> ['boot_cmd * Failed subcommands *', [['', 'Failed', 'subcommands'], ['subcommands', 'is', 'VAR2']]]\n",
      "65 -> ['switch_module * 1 Link in reset', [['Link', 'in', 'reset']]]\n",
      "66 -> ['boot_cmd* Failed subcommands *', [['', 'Failed', 'subcommands'], ['subcommands', 'is', 'VAR2']]]\n",
      "67 -> ['del_member_cmd * Command has *', [['Command', 'has', 'VAR2']]]\n",
      "68 -> ['domain status * not responding', [['domain status', 'not responding', ''], ['domain status', 'is', 'VAR1']]]\n",
      "69 -> ['node temperature * ambient = *', [['node temperature', 'is', 'VAR1'], ['ambient', 'is', 'VAR2']]]\n",
      "70 -> ['install_cmd * 1 Command has *', [['Command', 'has', 'VAR2']]]\n",
      "71 -> ['partition status * -1 blocked', [['partition status', 'blocked', '']]]\n",
      "72 -> ['shutdown_cmd * Command has *', [['Command', 'has', 'VAR2']]]\n",
      "73 -> ['node status * configured out', [['node status', 'is', 'VAR1'], ['node status', 'configured out', '']]]\n",
      "74 -> ['node status * not responding', [['node status', 'not responding', ''], ['node status', 'is', 'VAR1']]]\n",
      "75 -> ['node * failure\\\\ ambient = *', [['node', 'is', 'VAR1'], ['ambient', 'is', 'VAR2']]]\n",
      "76 -> ['partition status * running', [['partition status', 'is', 'VAR1']]]\n",
      "77 -> ['boot_cmd * Command has *', [['Command', 'has', 'VAR2']]]\n",
      "78 -> ['action * ( command * )', [['action', 'is', 'VAR1'], ['command', 'is', 'VAR2']]]\n",
      "79 -> ['node status * active', [['node status', 'is', 'VAR1'], ['node status', 'is', 'active']]]\n",
      "80 -> ['node temperature *', [['node temperature', 'is', 'VAR1']]]\n",
      "81 -> ['partition status *', [['partition status', 'is', 'VAR1']]]\n",
      "82 -> ['gige temperature *', [['gige temperature', 'is', 'VAR1']]]\n",
      "83 -> ['tserver status *', [['tserver status', 'is', 'VAR1']]]\n",
      "84 -> ['switch_module *', [['switch_module', 'is', 'VAR1']]]\n",
      "85 -> ['node status *', [['node status', 'is', 'VAR1']]]\n"
     ]
    }
   ],
   "source": [
    "print(type(data))\n",
    "\n",
    "for line in data:\n",
    "    print(line, \"->\", data[line])"
   ]
  },
  {
   "cell_type": "code",
   "execution_count": 6,
   "metadata": {},
   "outputs": [
    {
     "name": "stdout",
     "output_type": "stream",
     "text": [
      "[{'rouge-1': {'r': 0.42857142857142855, 'p': 0.5833333333333334, 'f': 0.49411764217577864}, 'rouge-2': {'r': 0.18571428571428572, 'p': 0.3170731707317073, 'f': 0.23423422957552154}, 'rouge-l': {'r': 0.3877551020408163, 'p': 0.5277777777777778, 'f': 0.44705881864636676}}]\n",
      "{'r': 0.5833333333333334, 'p': 0.42857142857142855, 'f': 0.49411764217577864}\n"
     ]
    }
   ],
   "source": [
    "## Teste inicial\n",
    "\n",
    "from rouge import Rouge \n",
    "\n",
    "hypothesis = \"the #### transcript is a written version of each day 's cnn student news program use this transcript to he    lp students with reading comprehension and vocabulary use the weekly newsquiz to test your knowledge of storie s you     saw on cnn student news\"\n",
    "\n",
    "reference = \"this page includes the show transcript use the transcript to help students with reading comprehension and     vocabulary at the bottom of the page , comment for a chance to be mentioned on cnn student news . you must be a teac    her or a student age # # or older to request a mention on the cnn student news roll call . the weekly newsquiz tests     students ' knowledge of even ts in the news\"\n",
    "\n",
    "rouge = Rouge()\n",
    "scores = rouge.get_scores(hypothesis, reference)\n",
    "print(scores)\n",
    "print(rouge.get_scores(reference, hypothesis)[0]['rouge-1'])"
   ]
  },
  {
   "cell_type": "code",
   "execution_count": 7,
   "metadata": {},
   "outputs": [
    {
     "name": "stdout",
     "output_type": "stream",
     "text": [
      "{'r': 0.5, 'p': 0.5, 'f': 0.4999999950000001}\n"
     ]
    }
   ],
   "source": [
    "## Comparando frases\n",
    "\n",
    "hypothesis = \"primeira avaliação\"\n",
    "reference = \"primeira prova\"\n",
    "print(rouge.get_scores(reference, hypothesis)[0]['rouge-1'])"
   ]
  },
  {
   "cell_type": "code",
   "execution_count": 21,
   "metadata": {},
   "outputs": [
    {
     "name": "stdout",
     "output_type": "stream",
     "text": [
      "c:\\Users\\vbert\\OneDrive\\DOUTORADO Poly Mtl\\Projeto\\CSL\\CSL-1\\groundTruth\\tests\\hyphotesis1.txt\n",
      "c:\\Users\\vbert\\OneDrive\\DOUTORADO Poly Mtl\\Projeto\\CSL\\CSL-1\\groundTruth\\tests\\reference1.txt\n",
      "{'rouge-1': {'r': 0.0, 'p': 0.0, 'f': 0.0}, 'rouge-2': {'r': 0.0, 'p': 0.0, 'f': 0.0}, 'rouge-l': {'r': 0.0, 'p': 0.0, 'f': 0.0}}\n"
     ]
    }
   ],
   "source": [
    "## Comparando arquivos\n",
    "\n",
    "from rouge import FilesRouge\n",
    "import os\n",
    "\n",
    "input_dir = os.path.join(os.getcwd(), \"groundTruth\", \"tests\") # The input directory of raw logs\n",
    "hyphothesis = os.path.join(input_dir, \"hyphotesis1.txt\")\n",
    "reference = os.path.join(input_dir, \"reference1.txt\")\n",
    "\n",
    "print(hyphothesis)\n",
    "print(reference)\n",
    "\n",
    "files_rouge = FilesRouge()\n",
    "scores = files_rouge.get_scores(hyphothesis, reference, avg=True)\n",
    "# or\n",
    "#scores = files_rouge.get_scores(hyp_path, ref_path, avg=True)\n",
    "print(scores)"
   ]
  },
  {
   "cell_type": "code",
   "execution_count": 1,
   "metadata": {},
   "outputs": [
    {
     "ename": "AttributeError",
     "evalue": "module 'utils' has no attribute 'load_data'",
     "output_type": "error",
     "traceback": [
      "\u001b[1;31m---------------------------------------------------------------------------\u001b[0m",
      "\u001b[1;31mAttributeError\u001b[0m                            Traceback (most recent call last)",
      "\u001b[1;32mc:\\Users\\vbert\\OneDrive\\DOUTORADO Poly Mtl\\Projeto\\CSL\\CSL-1\\JSONReader.ipynb Cell 6\u001b[0m line \u001b[0;36m3\n\u001b[0;32m      <a href='vscode-notebook-cell:/c%3A/Users/vbert/OneDrive/DOUTORADO%20Poly%20Mtl/Projeto/CSL/CSL-1/JSONReader.ipynb#W5sZmlsZQ%3D%3D?line=0'>1</a>\u001b[0m \u001b[39mimport\u001b[39;00m \u001b[39mutils\u001b[39;00m\n\u001b[1;32m----> <a href='vscode-notebook-cell:/c%3A/Users/vbert/OneDrive/DOUTORADO%20Poly%20Mtl/Projeto/CSL/CSL-1/JSONReader.ipynb#W5sZmlsZQ%3D%3D?line=2'>3</a>\u001b[0m docs \u001b[39m=\u001b[39m utils\u001b[39m.\u001b[39mload_data(\u001b[39m\"\u001b[39m\u001b[39mC:/Users/vbert/OneDrive/DOUTORADO Poly Mtl/Projeto/CSL/CSL-1/groundTruth/HPCTemplate.json\u001b[39m\u001b[39m\"\u001b[39m)\n",
      "\u001b[1;31mAttributeError\u001b[0m: module 'utils' has no attribute 'load_data'"
     ]
    }
   ],
   "source": [
    "import utils\n",
    "\n",
    "docs = utils.load_data(\"C:/Users/vbert/OneDrive/DOUTORADO Poly Mtl/Projeto/CSL/CSL-1/groundTruth/HPCTemplate.json\")"
   ]
  }
 ],
 "metadata": {
  "kernelspec": {
   "display_name": "base",
   "language": "python",
   "name": "python3"
  },
  "language_info": {
   "codemirror_mode": {
    "name": "ipython",
    "version": 3
   },
   "file_extension": ".py",
   "mimetype": "text/x-python",
   "name": "python",
   "nbconvert_exporter": "python",
   "pygments_lexer": "ipython3",
   "version": "3.11.4"
  }
 },
 "nbformat": 4,
 "nbformat_minor": 2
}
