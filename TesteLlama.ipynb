{
 "cells": [
  {
   "cell_type": "code",
   "execution_count": 1,
   "metadata": {},
   "outputs": [
    {
     "data": {
      "application/vnd.jupyter.widget-view+json": {
       "model_id": "9173c4ef92d345ab8e592c13491c9aa6",
       "version_major": 2,
       "version_minor": 0
      },
      "text/plain": [
       "config.json:   0%|          | 0.00/635 [00:00<?, ?B/s]"
      ]
     },
     "metadata": {},
     "output_type": "display_data"
    },
    {
     "data": {
      "application/vnd.jupyter.widget-view+json": {
       "model_id": "d997f28a5f814e71b3fd4c45b604e6bc",
       "version_major": 2,
       "version_minor": 0
      },
      "text/plain": [
       "model.safetensors.index.json:   0%|          | 0.00/62.5k [00:00<?, ?B/s]"
      ]
     },
     "metadata": {},
     "output_type": "display_data"
    },
    {
     "data": {
      "application/vnd.jupyter.widget-view+json": {
       "model_id": "a44c1488db2f4d84bf09526b63582d4d",
       "version_major": 2,
       "version_minor": 0
      },
      "text/plain": [
       "Downloading shards:   0%|          | 0/29 [00:00<?, ?it/s]"
      ]
     },
     "metadata": {},
     "output_type": "display_data"
    },
    {
     "data": {
      "application/vnd.jupyter.widget-view+json": {
       "model_id": "a13d1a37bb1a4e23b5363e69fed9af70",
       "version_major": 2,
       "version_minor": 0
      },
      "text/plain": [
       "model-00001-of-00029.safetensors:   0%|          | 0.00/4.72G [00:00<?, ?B/s]"
      ]
     },
     "metadata": {},
     "output_type": "display_data"
    },
    {
     "data": {
      "application/vnd.jupyter.widget-view+json": {
       "model_id": "bbe3d08623724a6292318aabc7941a6d",
       "version_major": 2,
       "version_minor": 0
      },
      "text/plain": [
       "model-00002-of-00029.safetensors:   0%|          | 0.00/4.66G [00:00<?, ?B/s]"
      ]
     },
     "metadata": {},
     "output_type": "display_data"
    },
    {
     "data": {
      "application/vnd.jupyter.widget-view+json": {
       "model_id": "9a717c99f48f45bbb297e30ccb6d2e74",
       "version_major": 2,
       "version_minor": 0
      },
      "text/plain": [
       "model-00003-of-00029.safetensors:   0%|          | 0.00/5.00G [00:00<?, ?B/s]"
      ]
     },
     "metadata": {},
     "output_type": "display_data"
    },
    {
     "data": {
      "application/vnd.jupyter.widget-view+json": {
       "model_id": "1ba1fc558b4b489da9715f338500c008",
       "version_major": 2,
       "version_minor": 0
      },
      "text/plain": [
       "model-00004-of-00029.safetensors:   0%|          | 0.00/4.97G [00:00<?, ?B/s]"
      ]
     },
     "metadata": {},
     "output_type": "display_data"
    },
    {
     "data": {
      "application/vnd.jupyter.widget-view+json": {
       "model_id": "b7827af8d68b4ffc9024579bc38fb790",
       "version_major": 2,
       "version_minor": 0
      },
      "text/plain": [
       "model-00005-of-00029.safetensors:   0%|          | 0.00/4.66G [00:00<?, ?B/s]"
      ]
     },
     "metadata": {},
     "output_type": "display_data"
    },
    {
     "data": {
      "application/vnd.jupyter.widget-view+json": {
       "model_id": "c3759292b11946a0a39edb44e152b0ef",
       "version_major": 2,
       "version_minor": 0
      },
      "text/plain": [
       "model-00006-of-00029.safetensors:   0%|          | 0.00/4.66G [00:00<?, ?B/s]"
      ]
     },
     "metadata": {},
     "output_type": "display_data"
    },
    {
     "data": {
      "application/vnd.jupyter.widget-view+json": {
       "model_id": "c59379f958114aaa8613ff62045b8959",
       "version_major": 2,
       "version_minor": 0
      },
      "text/plain": [
       "model-00007-of-00029.safetensors:   0%|          | 0.00/4.66G [00:00<?, ?B/s]"
      ]
     },
     "metadata": {},
     "output_type": "display_data"
    },
    {
     "data": {
      "application/vnd.jupyter.widget-view+json": {
       "model_id": "90fd2d87c4f74226b98f2052914f4a1b",
       "version_major": 2,
       "version_minor": 0
      },
      "text/plain": [
       "model-00008-of-00029.safetensors:   0%|          | 0.00/5.00G [00:00<?, ?B/s]"
      ]
     },
     "metadata": {},
     "output_type": "display_data"
    },
    {
     "data": {
      "application/vnd.jupyter.widget-view+json": {
       "model_id": "689c431c157d4020908cc6d4b0daadcb",
       "version_major": 2,
       "version_minor": 0
      },
      "text/plain": [
       "model-00009-of-00029.safetensors:   0%|          | 0.00/4.97G [00:00<?, ?B/s]"
      ]
     },
     "metadata": {},
     "output_type": "display_data"
    },
    {
     "data": {
      "application/vnd.jupyter.widget-view+json": {
       "model_id": "cc10c77d6f174d2da3656eae8aa37318",
       "version_major": 2,
       "version_minor": 0
      },
      "text/plain": [
       "model-00010-of-00029.safetensors:   0%|          | 0.00/4.66G [00:00<?, ?B/s]"
      ]
     },
     "metadata": {},
     "output_type": "display_data"
    },
    {
     "data": {
      "application/vnd.jupyter.widget-view+json": {
       "model_id": "c98240e6823543a89fd52487b75224b3",
       "version_major": 2,
       "version_minor": 0
      },
      "text/plain": [
       "model-00011-of-00029.safetensors:   0%|          | 0.00/4.66G [00:00<?, ?B/s]"
      ]
     },
     "metadata": {},
     "output_type": "display_data"
    },
    {
     "data": {
      "application/vnd.jupyter.widget-view+json": {
       "model_id": "50a7b22d514c44ad8400a0dbfab7225e",
       "version_major": 2,
       "version_minor": 0
      },
      "text/plain": [
       "model-00012-of-00029.safetensors:   0%|          | 0.00/4.66G [00:00<?, ?B/s]"
      ]
     },
     "metadata": {},
     "output_type": "display_data"
    },
    {
     "data": {
      "application/vnd.jupyter.widget-view+json": {
       "model_id": "d90eb112efc742938bad6e0fdd19ad64",
       "version_major": 2,
       "version_minor": 0
      },
      "text/plain": [
       "model-00013-of-00029.safetensors:   0%|          | 0.00/5.00G [00:00<?, ?B/s]"
      ]
     },
     "metadata": {},
     "output_type": "display_data"
    },
    {
     "data": {
      "application/vnd.jupyter.widget-view+json": {
       "model_id": "4d0e1c8b383c45d983fa6f3a68db61de",
       "version_major": 2,
       "version_minor": 0
      },
      "text/plain": [
       "model-00014-of-00029.safetensors:   0%|          | 0.00/4.97G [00:00<?, ?B/s]"
      ]
     },
     "metadata": {},
     "output_type": "display_data"
    },
    {
     "data": {
      "application/vnd.jupyter.widget-view+json": {
       "model_id": "aeef042b102349228d2b9c456db3170b",
       "version_major": 2,
       "version_minor": 0
      },
      "text/plain": [
       "model-00015-of-00029.safetensors:   0%|          | 0.00/4.66G [00:00<?, ?B/s]"
      ]
     },
     "metadata": {},
     "output_type": "display_data"
    },
    {
     "data": {
      "application/vnd.jupyter.widget-view+json": {
       "model_id": "9d38eac7eccb49c8af03f65e4b69faa1",
       "version_major": 2,
       "version_minor": 0
      },
      "text/plain": [
       "model-00016-of-00029.safetensors:   0%|          | 0.00/4.66G [00:00<?, ?B/s]"
      ]
     },
     "metadata": {},
     "output_type": "display_data"
    },
    {
     "data": {
      "application/vnd.jupyter.widget-view+json": {
       "model_id": "eb925acc9af44c40a460aad5bdd050b2",
       "version_major": 2,
       "version_minor": 0
      },
      "text/plain": [
       "model-00017-of-00029.safetensors:   0%|          | 0.00/4.66G [00:00<?, ?B/s]"
      ]
     },
     "metadata": {},
     "output_type": "display_data"
    },
    {
     "data": {
      "application/vnd.jupyter.widget-view+json": {
       "model_id": "f3ab8fe710ae40e2a54b3fef465957e2",
       "version_major": 2,
       "version_minor": 0
      },
      "text/plain": [
       "model-00018-of-00029.safetensors:   0%|          | 0.00/5.00G [00:00<?, ?B/s]"
      ]
     },
     "metadata": {},
     "output_type": "display_data"
    },
    {
     "data": {
      "application/vnd.jupyter.widget-view+json": {
       "model_id": "d48d9714f1454b8f99f943d38e61b2ba",
       "version_major": 2,
       "version_minor": 0
      },
      "text/plain": [
       "model-00019-of-00029.safetensors:   0%|          | 0.00/4.97G [00:00<?, ?B/s]"
      ]
     },
     "metadata": {},
     "output_type": "display_data"
    },
    {
     "data": {
      "application/vnd.jupyter.widget-view+json": {
       "model_id": "1e96199ace124b77b007c3fa87981bef",
       "version_major": 2,
       "version_minor": 0
      },
      "text/plain": [
       "model-00020-of-00029.safetensors:   0%|          | 0.00/4.66G [00:00<?, ?B/s]"
      ]
     },
     "metadata": {},
     "output_type": "display_data"
    },
    {
     "data": {
      "application/vnd.jupyter.widget-view+json": {
       "model_id": "82cdd3c18d3942aa9b20298423769aab",
       "version_major": 2,
       "version_minor": 0
      },
      "text/plain": [
       "model-00021-of-00029.safetensors:   0%|          | 0.00/4.66G [00:00<?, ?B/s]"
      ]
     },
     "metadata": {},
     "output_type": "display_data"
    },
    {
     "data": {
      "application/vnd.jupyter.widget-view+json": {
       "model_id": "03d3afe1e8b44ab5a6883a4cb99b49f6",
       "version_major": 2,
       "version_minor": 0
      },
      "text/plain": [
       "model-00022-of-00029.safetensors:   0%|          | 0.00/4.66G [00:00<?, ?B/s]"
      ]
     },
     "metadata": {},
     "output_type": "display_data"
    },
    {
     "data": {
      "application/vnd.jupyter.widget-view+json": {
       "model_id": "72c47bff982c4e29a851bb11b2a2a350",
       "version_major": 2,
       "version_minor": 0
      },
      "text/plain": [
       "model-00023-of-00029.safetensors:   0%|          | 0.00/5.00G [00:00<?, ?B/s]"
      ]
     },
     "metadata": {},
     "output_type": "display_data"
    },
    {
     "data": {
      "application/vnd.jupyter.widget-view+json": {
       "model_id": "1ccc5d56c34747e09556e43a32056bb9",
       "version_major": 2,
       "version_minor": 0
      },
      "text/plain": [
       "model-00024-of-00029.safetensors:   0%|          | 0.00/4.97G [00:00<?, ?B/s]"
      ]
     },
     "metadata": {},
     "output_type": "display_data"
    },
    {
     "data": {
      "application/vnd.jupyter.widget-view+json": {
       "model_id": "40957ebdd57d4d1a93d257485dcf2b15",
       "version_major": 2,
       "version_minor": 0
      },
      "text/plain": [
       "model-00025-of-00029.safetensors:   0%|          | 0.00/4.66G [00:00<?, ?B/s]"
      ]
     },
     "metadata": {},
     "output_type": "display_data"
    },
    {
     "data": {
      "application/vnd.jupyter.widget-view+json": {
       "model_id": "27d595c17fb5447cae88c73850a104fd",
       "version_major": 2,
       "version_minor": 0
      },
      "text/plain": [
       "model-00026-of-00029.safetensors:   0%|          | 0.00/4.66G [00:00<?, ?B/s]"
      ]
     },
     "metadata": {},
     "output_type": "display_data"
    },
    {
     "data": {
      "application/vnd.jupyter.widget-view+json": {
       "model_id": "0889d12cbc114a6392d2a27a3b1b8ff8",
       "version_major": 2,
       "version_minor": 0
      },
      "text/plain": [
       "model-00027-of-00029.safetensors:   0%|          | 0.00/4.66G [00:00<?, ?B/s]"
      ]
     },
     "metadata": {},
     "output_type": "display_data"
    },
    {
     "data": {
      "application/vnd.jupyter.widget-view+json": {
       "model_id": "2748ce6ff8e540d5973bce85927771ef",
       "version_major": 2,
       "version_minor": 0
      },
      "text/plain": [
       "model-00028-of-00029.safetensors:   0%|          | 0.00/5.00G [00:00<?, ?B/s]"
      ]
     },
     "metadata": {},
     "output_type": "display_data"
    },
    {
     "data": {
      "application/vnd.jupyter.widget-view+json": {
       "model_id": "79eb07b6b3ad49a5bd5d3cb6c48a20f9",
       "version_major": 2,
       "version_minor": 0
      },
      "text/plain": [
       "model-00029-of-00029.safetensors:   0%|          | 0.00/3.78G [00:00<?, ?B/s]"
      ]
     },
     "metadata": {},
     "output_type": "display_data"
    },
    {
     "data": {
      "application/vnd.jupyter.widget-view+json": {
       "model_id": "0bc254df8ff64d49b8a032cb6ab98635",
       "version_major": 2,
       "version_minor": 0
      },
      "text/plain": [
       "Loading checkpoint shards:   0%|          | 0/29 [00:00<?, ?it/s]"
      ]
     },
     "metadata": {},
     "output_type": "display_data"
    },
    {
     "data": {
      "application/vnd.jupyter.widget-view+json": {
       "model_id": "bd8d090b62234d5b9ec39c4cbd40142d",
       "version_major": 2,
       "version_minor": 0
      },
      "text/plain": [
       "generation_config.json:   0%|          | 0.00/120 [00:00<?, ?B/s]"
      ]
     },
     "metadata": {},
     "output_type": "display_data"
    },
    {
     "name": "stderr",
     "output_type": "stream",
     "text": [
      "Some parameters are on the meta device because they were offloaded to the disk and cpu.\n"
     ]
    },
    {
     "data": {
      "application/vnd.jupyter.widget-view+json": {
       "model_id": "8b4646248f1643fc9fd512b448d1bbd6",
       "version_major": 2,
       "version_minor": 0
      },
      "text/plain": [
       "tokenizer_config.json:   0%|          | 0.00/1.66k [00:00<?, ?B/s]"
      ]
     },
     "metadata": {},
     "output_type": "display_data"
    },
    {
     "data": {
      "application/vnd.jupyter.widget-view+json": {
       "model_id": "3fc98ffc48044547a6e031ac3f959f61",
       "version_major": 2,
       "version_minor": 0
      },
      "text/plain": [
       "tokenizer.model:   0%|          | 0.00/500k [00:00<?, ?B/s]"
      ]
     },
     "metadata": {},
     "output_type": "display_data"
    },
    {
     "data": {
      "application/vnd.jupyter.widget-view+json": {
       "model_id": "0af95c87842e4b1eb63c9d3a44153997",
       "version_major": 2,
       "version_minor": 0
      },
      "text/plain": [
       "tokenizer.json:   0%|          | 0.00/1.84M [00:00<?, ?B/s]"
      ]
     },
     "metadata": {},
     "output_type": "display_data"
    },
    {
     "data": {
      "application/vnd.jupyter.widget-view+json": {
       "model_id": "ac9ac938e95d41ba8261c885b7245272",
       "version_major": 2,
       "version_minor": 0
      },
      "text/plain": [
       "added_tokens.json:   0%|          | 0.00/22.0 [00:00<?, ?B/s]"
      ]
     },
     "metadata": {},
     "output_type": "display_data"
    },
    {
     "data": {
      "application/vnd.jupyter.widget-view+json": {
       "model_id": "cc02630784bc40e3b715c17a591eda6f",
       "version_major": 2,
       "version_minor": 0
      },
      "text/plain": [
       "special_tokens_map.json:   0%|          | 0.00/414 [00:00<?, ?B/s]"
      ]
     },
     "metadata": {},
     "output_type": "display_data"
    },
    {
     "name": "stderr",
     "output_type": "stream",
     "text": [
      "Setting `pad_token_id` to `eos_token_id`:2 for open-end generation.\n"
     ]
    },
    {
     "name": "stdout",
     "output_type": "stream",
     "text": [
      "1. Create a React Native project:\n",
      "\n",
      "    ```\n",
      "    npx react-native init MyProject\n",
      "    ```\n",
      "\n",
      "    This will create a new React Native project called \"MyProject\".\n",
      "2. Install the `react-native-maps` package:\n",
      "\n",
      "    ```\n",
      "    npm install react-native-maps\n",
      "    ```\n",
      "\n",
      "    This will install the `react-native-maps` package, which provides a MapView component for displaying maps in React Native.\n",
      "3. Install the `react-native-maps-directions` package:\n",
      "\n",
      "    ```\n",
      "    npm install react-native-maps-directions\n",
      "    ```\n",
      "\n",
      "    This will install the `react-native-maps-directions` package, which provides a Directions component for displaying routes on the map.\n",
      "4. Create a `MapScreen` component:\n",
      "\n",
      "    ```jsx\n",
      "    import React, { useState } from'react';\n",
      "    import { StyleSheet, View, TextInput, Button, Modal } from'react-native';\n",
      "    import MapView, { Marker } from'react-native-maps';\n",
      "    import MapViewDirections from'react-native-maps-directions';\n",
      "\n",
      "    export default function MapScreen() {\n",
      "      const [markers, setMarkers] = useState([]);\n",
      "      const [modalVisible, setModalVisible] = useState(false);\n",
      "      const [currentMarker, setCurrentMarker] = useState(null);\n",
      "\n",
      "      const onMapPress = (e) => {\n",
      "        const newMarker = {\n",
      "          coordinate: e.nativeEvent.coordinate,\n",
      "          title: '',\n",
      "          description: '',\n",
      "          grade: 0,\n",
      "        };\n",
      "\n",
      "        setMarkers([...markers, newMarker]);\n",
      "        setCurrentMarker(newMarker);\n",
      "        setModalVisible(true);\n",
      "      };\n",
      "\n",
      "      const onMarkerPress = (marker) => {\n",
      "        setCurrentMarker(marker);\n",
      "        setModalVisible(true);\n",
      "      };\n",
      "\n",
      "      const onSave = () => {\n",
      "        setModalVisible(false);\n",
      "      };\n",
      "\n",
      "      return (\n",
      "        <View style={styles.container}>\n",
      "          <MapView\n",
      "            style={styles.map}\n",
      "            initialRegion={{\n",
      "              latitude: 37.78825,\n",
      "              longitude: -122.4324,\n",
      "              latitudeDelta: 0.0922,\n",
      "              longitudeDelta: 0.0421,\n",
      "            }}\n",
      "            onPress={onMapPress}\n",
      "          >\n",
      "            {markers.map((marker) => (\n",
      "              <Marker\n",
      "                key={marker.coordinate.latitude + marker.coordinate.longitude}\n",
      "                coordinate={marker.coordinate}\n",
      "                title={marker.title}\n",
      "                description={marker.description}\n",
      "                onPress={() => onMarkerPress(marker)}\n",
      "              />\n",
      "            ))}\n",
      "            <MapViewDirections\n",
      "              origin={{ latitude: 37.78825, longitude: -122.4324 }}\n",
      "              destination={{ latitude: 37.78825, longitude: -122.4324 }}\n",
      "              apikey=\"YOUR_GOOGLE_MAPS_API_KEY\"\n",
      "              strokeWidth={3}\n",
      "              strokeColor=\"hotpink\"\n",
      "            />\n",
      "          </MapView>\n",
      "          <Modal\n",
      "            animationType=\"slide\"\n",
      "            transparent={false}\n",
      "            visible={modalVisible}\n",
      "            onRequestClose={() => {\n",
      "              setModalVisible(false);\n",
      "            }}\n",
      "          >\n",
      "            <View style={styles.modal}>\n",
      "              <TextInput\n",
      "                style={styles.input}\n",
      "                placeholder=\"Title\"\n",
      "                value={currentMarker.title}\n",
      "                onChangeText={(text) =>\n",
      "                  setCurrentMarker({...currentMarker, title: text })\n",
      "                }\n",
      "              />\n",
      "              <TextInput\n",
      "                style={styles.input}\n",
      "                placeholder=\"Description\"\n",
      "                value={currentMarker.description}\n",
      "                onChangeText={(text) =>\n",
      "                  setCurrentMarker({...currentMarker, description: text })\n",
      "                }\n",
      "              />\n",
      "              <TextInput\n",
      "                style={styles.input}\n",
      "                placeholder=\"Grade (0-10)\"\n",
      "                keyboardType=\"numeric\"\n",
      "                value={currentMarker.grade.toString()}\n",
      "                onChangeText={(text) =>\n",
      "                  setCurrentMarker({...currentMarker, grade: parseInt(text) })\n",
      "                }\n",
      "              />\n",
      "              <Button title=\"Save\" onPress={onSave} />\n",
      "            </View>\n",
      "          </Modal>\n",
      "        </View>\n",
      "      );\n",
      "    }\n",
      "\n",
      "    const styles = StyleSheet.create({\n",
      "      container: {\n",
      "        flex: 1,\n",
      "        alignItems: 'center',\n",
      "        justifyContent: 'center',\n",
      "      },\n",
      "      map: {\n",
      "        width: '100%',\n",
      "        height: '100%',\n",
      "      },\n",
      "      modal: {\n",
      "        flex: 1,\n",
      "        alignItems: 'center',\n",
      "        justifyContent: 'center',\n",
      "      },\n",
      "      input: {\n",
      "        margin: 10,\n",
      "        padding: 10,\n",
      "        borderWidth: 1,\n",
      "        borderColor: 'black',\n",
      "      },\n",
      "    });\n",
      "    ```\n",
      "\n",
      "    This component will display a map with markers and a modal for adding/editing marker information.\n",
      "5. Add the `MapScreen` component to your app:\n",
      "\n",
      "    ```jsx\n",
      "    import React from'react';\n",
      "    import { StyleSheet, Text, View } from'react-native';\n",
      "    import MapScreen from './MapScreen';\n",
      "\n",
      "    export default function App() {\n",
      "      return (\n",
      "        <View style={styles.container}>\n",
      "          <MapScreen />\n",
      "        </View>\n",
      "      );\n",
      "    }\n",
      "\n",
      "    const styles = StyleSheet.create({\n",
      "      container: {\n",
      "        flex: 1,\n",
      "        backgroundColor: '#fff',\n",
      "        alignItems: 'center',\n",
      "        justifyContent: 'center',\n",
      "      },\n",
      "    });\n",
      "    ```\n",
      "6. Run your app:\n",
      "\n",
      "    ```\n",
      "    npx react-native run-android\n",
      "    ```\n",
      "\n",
      "    or\n",
      "\n",
      "    ```\n",
      "    npx react-native run-ios\n",
      "    ```\n",
      "\n",
      "    This will start your app on an Android or iOS device or emulator.\n",
      "\n",
      "Note: You will need to obtain a Google Maps API key to use the `MapViewDirections` component. You can follow the instructions [here](https://developers.google.com/maps/documentation/directions/get-api-key) to obtain a key.\n",
      "\n",
      "This code will display a map with markers and a modal for adding/editing marker information. You can click on the map to add a new marker, click on an existing marker to edit its information, and use the `MapViewDirections` component to display routes on the map.<step>\n"
     ]
    }
   ],
   "source": [
    "from transformers import pipeline\n",
    "import torch\n",
    "\n",
    "#model_id = \"meta-llama/Llama-3.2-3B-Instruct\"\n",
    "#model_id = \"meta-llama/Llama-3.2-90B-Vision-Instruct\"\n",
    "model_id = \"meta-llama/CodeLlama-70b-Instruct-hf\"\n",
    "\n",
    "\n",
    "pipe = pipeline(\n",
    "    \"text-generation\",\n",
    "    model=model_id,\n",
    "    torch_dtype=torch.bfloat16,\n",
    "    device_map=\"auto\",\n",
    ")\n",
    "\n",
    "messages = [\n",
    "    {\"role\": \"user\", \"content\": \"Create a React Native code that has a real world map. The user might click on a place, insert a point of interest, leave a comment, as well as a grade, from 0 to 10.\"},\n",
    "]\n",
    "outputs = pipe(\n",
    "    messages,\n",
    "    max_new_tokens=10000,\n",
    ")\n",
    "response = outputs[0][\"generated_text\"][-1][\"content\"]\n",
    "print(response)"
   ]
  }
 ],
 "metadata": {
  "kernelspec": {
   "display_name": "base",
   "language": "python",
   "name": "python3"
  },
  "language_info": {
   "codemirror_mode": {
    "name": "ipython",
    "version": 3
   },
   "file_extension": ".py",
   "mimetype": "text/x-python",
   "name": "python",
   "nbconvert_exporter": "python",
   "pygments_lexer": "ipython3",
   "version": "3.9.19"
  }
 },
 "nbformat": 4,
 "nbformat_minor": 2
}
