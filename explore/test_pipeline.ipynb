{
 "cells": [
  {
   "cell_type": "code",
   "execution_count": 1,
   "metadata": {},
   "outputs": [],
   "source": [
    "import json\n",
    "import pandas as pd\n",
    "from pathlib import Path\n",
    "import numpy as np\n",
    "from sklearn.preprocessing import MultiLabelBinarizer\n",
    "import h5py\n",
    "import tqdm\n",
    "import plotly.express as px\n",
    "root = Path(\"../data/\")\n",
    "import pyperclip as pc\n",
    "import sys\n",
    "from sklearn.cluster import DBSCAN\n",
    "from sklearn.metrics.pairwise import pairwise_distances \n",
    "from colorama import Fore, Style, init\n",
    "import ipywidgets as widgets\n",
    "from IPython.display import display, clear_output, HTML"
   ]
  },
  {
   "cell_type": "code",
   "execution_count": 2,
   "metadata": {},
   "outputs": [
    {
     "name": "stderr",
     "output_type": "stream",
     "text": [
      "  0%|          | 0/50 [00:00<?, ?it/s]"
     ]
    },
    {
     "name": "stderr",
     "output_type": "stream",
     "text": [
      "  8%|▊         | 4/50 [00:00<00:06,  7.10it/s]c:\\Users\\robin\\miniconda3\\envs\\severityPrediction\\lib\\site-packages\\sklearn\\metrics\\pairwise.py:2025: DataConversionWarning: Data was converted to boolean for metric jaccard\n",
      "  warnings.warn(msg, DataConversionWarning)\n",
      " 10%|█         | 5/50 [00:00<00:07,  5.86it/s]\n"
     ]
    },
    {
     "data": {
      "application/vnd.jupyter.widget-view+json": {
       "model_id": "b7960a5e8eec43e79bc3152e2b5bdb77",
       "version_major": 2,
       "version_minor": 0
      },
      "text/plain": [
       "FloatSlider(value=0.6, description='slider_distance:', max=1.0, step=0.01)"
      ]
     },
     "metadata": {},
     "output_type": "display_data"
    },
    {
     "data": {
      "application/vnd.jupyter.widget-view+json": {
       "model_id": "44a90964cee34d3191fe38a940d100e7",
       "version_major": 2,
       "version_minor": 0
      },
      "text/plain": [
       "FloatSlider(value=0.4, description='slider_variables:', max=1.0, step=0.01)"
      ]
     },
     "metadata": {},
     "output_type": "display_data"
    },
    {
     "data": {
      "application/vnd.jupyter.widget-view+json": {
       "model_id": "d0c70de041a94b28b840e65f8c1a5442",
       "version_major": 2,
       "version_minor": 0
      },
      "text/plain": [
       "FloatSlider(value=0.0, description='slider_line_dist:', max=1.0, step=0.01)"
      ]
     },
     "metadata": {},
     "output_type": "display_data"
    },
    {
     "data": {
      "application/vnd.jupyter.widget-view+json": {
       "model_id": "dc9d591d9564429ea97ee8b141ab653b",
       "version_major": 2,
       "version_minor": 0
      },
      "text/plain": [
       "FloatSlider(value=0.9, description='slider_eps:', max=1.0, step=0.01)"
      ]
     },
     "metadata": {},
     "output_type": "display_data"
    },
    {
     "data": {
      "application/vnd.jupyter.widget-view+json": {
       "model_id": "ab1d754ed3ec462e937321587993b127",
       "version_major": 2,
       "version_minor": 0
      },
      "text/plain": [
       "Output()"
      ]
     },
     "metadata": {},
     "output_type": "display_data"
    }
   ],
   "source": [
    "# Adaptation of LineTracker notebook\n",
    "# 1. get a distance matrix with more than 10 lines\n",
    "distance_matrix = None\n",
    "choice_build_log = \"\"\n",
    "with h5py.File(root / \"distances\" / \"distances_cos_13365.hdf5\") as fp:\n",
    "    for k in fp:\n",
    "        choice_build_log = k\n",
    "        distance_matrix = np.copy(fp[choice_build_log])\n",
    "        if distance_matrix.shape[0] >= 10:\n",
    "            break\n",
    "assert distance_matrix is not None\n",
    "# Apply normalization\n",
    "distance_matrix /= 2\n",
    "# 2. Get variables matrix\n",
    "pathes = list(root.rglob(\"variables/variables_*.json\"))\n",
    "mapping = {}\n",
    "variable_matrix = None\n",
    "for f in tqdm.tqdm(pathes):\n",
    "    with open(f) as fp:\n",
    "        d = json.load(fp)\n",
    "    if choice_build_log in d:\n",
    "        v = d[choice_build_log]\n",
    "        d1 = pd.DataFrame(v[\"log_df\"])\n",
    "        for i,l in enumerate(d1[\"Content\"]):\n",
    "            mapping[i] = l\n",
    "        var_df = d1[\"ParameterList\"]\n",
    "\n",
    "        mlb = MultiLabelBinarizer(sparse_output=False)\n",
    "        variable_matrix = pairwise_distances(mlb.fit_transform(var_df), metric=\"jaccard\", n_jobs=-1)\n",
    "        \n",
    "        break\n",
    "assert variable_matrix is not None\n",
    "# 3. Get count matrix\n",
    "n_lines = len(distance_matrix)\n",
    "count_matrix = np.zeros((n_lines,n_lines))\n",
    "for i in range(n_lines):\n",
    "    for j in range(n_lines):\n",
    "        count_matrix[i,j] = abs(i-j)\n",
    "min_val = np.min(count_matrix)\n",
    "max_val = np.max(count_matrix)\n",
    "count_matrix = (count_matrix - min_val) / (max_val - min_val)\n",
    "slider_distance = widgets.FloatSlider(value=0.6, min=0.0, max=1.0, step=0.01, description='slider_distance:')\n",
    "slider_variables = widgets.FloatSlider(value=0.4, min=0.0, max=1.0, step=0.01, description='slider_variables:')\n",
    "slider_line_dist = widgets.FloatSlider(value=0.0, min=0.0, max=1.0, step=0.01, description='slider_line_dist:')\n",
    "slider_eps = widgets.FloatSlider(value=0.9, min=0.0, max=1.0, step=0.01, description='slider_eps:')\n",
    "output = widgets.Output()\n",
    "\n",
    "# Define a callback function that will be called when sliders are changed\n",
    "def on_slider_change(change):\n",
    "    global distance_matrix\n",
    "    global variable_matrix\n",
    "    global count_matrix\n",
    "    with output:\n",
    "        # Clear previous output\n",
    "        clear_output(wait=True)\n",
    "        \n",
    "        # Print the values of the sliders\n",
    "        alpha = slider_distance.value\n",
    "        beta = slider_variables.value\n",
    "        gamma = slider_line_dist.value\n",
    "        eps = slider_eps.value\n",
    "        if alpha+beta+gamma != 1:\n",
    "            print(\"slider_distance+slider_variables+slider_line_dist should be equal to 1\")\n",
    "            return\n",
    "        # 4. Build final matrix\n",
    "\n",
    "        # New matrices, corrected by the weights\n",
    "        distance_matrix_wtd = np.dot(alpha,distance_matrix)\n",
    "        variable_matrix_wtd = np.dot(beta, variable_matrix)\n",
    "        count_matrix_wtd = np.dot(gamma, count_matrix)\n",
    "        # print(f\"{distance_matrix.shape=} {variable_matrix_wtd.shape=} {count_matrix.shape=}\")\n",
    "\n",
    "        # Sums remaining matrices\n",
    "        distance_matrix = np.asarray(distance_matrix_wtd + variable_matrix_wtd + count_matrix_wtd)\n",
    "        print(f\"Is the distance matrix symmetric? {np.allclose(distance_matrix, distance_matrix.T)}\")\n",
    "        clusterer = DBSCAN(eps=eps,min_samples=2,metric='precomputed',algorithm='auto',n_jobs=-1)\n",
    "        clusterer.fit(distance_matrix)\n",
    "\n",
    "        print (f\"The number of clusters is {len(np.unique(clusterer.labels_))-1} including outliers? {-1 in clusterer.labels_}\")\n",
    "        # print (\"The clusters of each element are {}\".format(clusterer.labels_))\n",
    "\n",
    "        ## Checks number of outliers\n",
    "        cont = np.count_nonzero(clusterer.labels_ == -1)\n",
    "\n",
    "        # print(\"The number of outliers is {}\".format(cont))\n",
    "        # print(\"The total amount of elements is {}\".format(len(clusterer.labels_)))\n",
    "        # Show the clusters\n",
    "        available_colors = [Fore.RED, Fore.GREEN, Fore.YELLOW, Fore.BLUE, Fore.MAGENTA, Fore.CYAN]\n",
    "        available_colors = [\"red\", \"green\", \"brown\", \"blue\", \"orange\", \"darkblue\"]\n",
    "        color_mapping = {}\n",
    "        for i, integer in enumerate(np.unique(clusterer.labels_)):\n",
    "            color_mapping[integer] = available_colors[i % len(available_colors)]\n",
    "        print(\"Mapping is \", color_mapping)\n",
    "        for line_id,label in enumerate(clusterer.labels_):\n",
    "            color = color_mapping.get(label, Fore.WHITE)\n",
    "            html_code = f'<span style=\"color:{color}\">{mapping[line_id]}</span>'\n",
    "            display(HTML(html_code))\n",
    "            # print(color + mapping[line_id] + Style.RESET_ALL)\n",
    "slider_distance.observe(on_slider_change, names='value')\n",
    "slider_variables.observe(on_slider_change, names='value')\n",
    "slider_line_dist.observe(on_slider_change, names='value')\n",
    "slider_eps.observe(on_slider_change, names='value')\n",
    "display(slider_distance, slider_variables, slider_line_dist, slider_eps, output)"
   ]
  },
  {
   "cell_type": "code",
   "execution_count": null,
   "metadata": {},
   "outputs": [],
   "source": []
  }
 ],
 "metadata": {
  "kernelspec": {
   "display_name": "severityPrediction",
   "language": "python",
   "name": "python3"
  },
  "language_info": {
   "codemirror_mode": {
    "name": "ipython",
    "version": 3
   },
   "file_extension": ".py",
   "mimetype": "text/x-python",
   "name": "python",
   "nbconvert_exporter": "python",
   "pygments_lexer": "ipython3",
   "version": "3.9.18"
  }
 },
 "nbformat": 4,
 "nbformat_minor": 2
}
